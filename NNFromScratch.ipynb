{
 "cells": [
  {
   "cell_type": "markdown",
   "id": "0e9128f2",
   "metadata": {},
   "source": [
    "### Introduction"
   ]
  },
  {
   "cell_type": "markdown",
   "id": "b43cf990",
   "metadata": {},
   "source": [
    "The goal of this notebook is to build from scratch a neural network for an image classficiation task.\n",
    "\n",
    "This is to have a good grasp of deep learning concepts .."
   ]
  },
  {
   "cell_type": "markdown",
   "id": "8c44e778",
   "metadata": {},
   "source": [
    "## Plan"
   ]
  },
  {
   "cell_type": "markdown",
   "id": "dccca0e2",
   "metadata": {},
   "source": [
    "**1-** Prepare the dataset\n",
    "\n",
    "**2-** Implementing the forward pass\n",
    "\n",
    "**3-** Implementing the backwad pass\n",
    "\n",
    "**4-** Evaluating the performance of the nn\n",
    "\n",
    "**5-** Experiments with the nn parametres and how they affect the performances \n",
    "\n",
    "Some questions that we want to answer are : \n",
    "\n",
    "* Can we find some correlation between the variance in the dataset and the size of the neural network? \n",
    "* Is the bias part of the neurons important in the task?"
   ]
  },
  {
   "cell_type": "markdown",
   "id": "c0e8dec1",
   "metadata": {},
   "source": [
    "### 1-  Loading the dataset"
   ]
  },
  {
   "cell_type": "code",
   "execution_count": 1,
   "id": "6fe544e9",
   "metadata": {},
   "outputs": [
    {
     "name": "stdout",
     "output_type": "stream",
     "text": [
      "Downloading data from https://storage.googleapis.com/tensorflow/tf-keras-datasets/mnist.npz\n",
      "11490434/11490434 [==============================] - 5s 0us/step\n",
      "Training data shape: (60000, 28, 28)\n",
      "Training labels shape: (60000,)\n",
      "Test data shape: (10000, 28, 28)\n",
      "Test labels shape: (10000,)\n"
     ]
    }
   ],
   "source": [
    "import tensorflow as tf\n",
    "\n",
    "# Load the MNIST dataset\n",
    "mnist = tf.keras.datasets.mnist\n",
    "(x_train, y_train), (x_test, y_test) = mnist.load_data()\n",
    "\n",
    "# Display the shape of the loaded data\n",
    "print(\"Training data shape:\", x_train.shape)  # (60000, 28, 28)\n",
    "print(\"Training labels shape:\", y_train.shape)  # (60000,)\n",
    "print(\"Test data shape:\", x_test.shape)  # (10000, 28, 28)\n",
    "print(\"Test labels shape:\", y_test.shape)  # (10000,)"
   ]
  },
  {
   "cell_type": "markdown",
   "id": "41459d3c",
   "metadata": {},
   "source": [
    "###  2-  Visualizing the dataset"
   ]
  },
  {
   "cell_type": "code",
   "execution_count": 13,
   "id": "9642a8f9",
   "metadata": {},
   "outputs": [
    {
     "data": {
      "image/png": "[encoded data removed]",
      "text/plain": [
       "<Figure size 432x288 with 1 Axes>"
      ]
     },
     "metadata": {
      "needs_background": "light"
     },
     "output_type": "display_data"
    }
   ],
   "source": [
    "import matplotlib.pyplot as plt\n",
    "import numpy as np\n",
    "\n",
    "random_idx = np.random.randint(1000)\n",
    "\n",
    "image = x_train[random_idx]\n",
    "label = y_train[random_idx]\n",
    "\n",
    "plt.imshow(image, cmap='gray')  # Display the image\n",
    "plt.axis('off')  # Turn off the axes\n",
    "plt.title(label)\n",
    "plt.show()  # Show the image"
   ]
  },
  {
   "cell_type": "markdown",
   "id": "026407de",
   "metadata": {},
   "source": [
    "==> Each image is a **28*28** pixels, which gives a list of **784** elements"
   ]
  },
  {
   "cell_type": "markdown",
   "id": "1adace72",
   "metadata": {},
   "source": [
    "### 3- Implementing the forward pass"
   ]
  },
  {
   "cell_type": "markdown",
   "id": "b4bd6c35",
   "metadata": {},
   "source": [
    "Our neural network, would be such that there is only one hidden layer with **300** neurons, and the output layer with **10**neurons\n",
    "\n",
    "For now, the activations functions would be all linear, and in to generate the output we take the argmax.\n",
    "\n",
    "Our loss function will be the Mean Squared Error, aka **MSE**"
   ]
  },
  {
   "cell_type": "code",
   "execution_count": 22,
   "id": "27c41a1d",
   "metadata": {},
   "outputs": [],
   "source": [
    "input_layer = image.flatten()"
   ]
  },
  {
   "cell_type": "code",
   "execution_count": 54,
   "id": "b2a15531",
   "metadata": {},
   "outputs": [],
   "source": [
    "## Initializing the weights linking the input layer with the hidden layer\n",
    "\n",
    "size_input_layer = 784\n",
    "size_hidden_layer = 300\n",
    "size_output_layer = 10\n",
    "\n",
    "\n",
    "weight_input_hidden = np.random.random((size_hidden_layer, size_input_layer))\n",
    "weight_hidden_output = np.random.random((size_hidden_layer, size_output_layer))"
   ]
  },
  {
   "cell_type": "code",
   "execution_count": 55,
   "id": "96a69d14",
   "metadata": {},
   "outputs": [
    {
     "data": {
      "text/plain": [
       "(300,)"
      ]
     },
     "execution_count": 55,
     "metadata": {},
     "output_type": "execute_result"
    }
   ],
   "source": [
    "# Hidden layer result\n",
    "hidden_representation = np.dot(weight_input_hidden , input_layer)\n",
    "hidden_representation.shape"
   ]
  },
  {
   "cell_type": "code",
   "execution_count": 56,
   "id": "1e7548a5",
   "metadata": {},
   "outputs": [],
   "source": [
    "mi = hidden_representation.min()\n",
    "ma = hidden_representation.max()\n",
    "\n",
    "# min max normalization\n",
    "norm_hidden_representation = (hidden_representation - mi)/(ma-mi)"
   ]
  },
  {
   "cell_type": "code",
   "execution_count": 57,
   "id": "1b7c3057",
   "metadata": {},
   "outputs": [
    {
     "data": {
      "text/plain": [
       "<matplotlib.image.AxesImage at 0x2dab188e3d0>"
      ]
     },
     "execution_count": 57,
     "metadata": {},
     "output_type": "execute_result"
    },
    {
     "data": {
      "image/png": "[encoded data removed]",
      "text/plain": [
       "<Figure size 432x288 with 1 Axes>"
      ]
     },
     "metadata": {
      "needs_background": "light"
     },
     "output_type": "display_data"
    }
   ],
   "source": [
    "plt.imshow(norm_hidden_representation.reshape(15,20), cmap='gray')  # Display the image"
   ]
  },
  {
   "cell_type": "code",
   "execution_count": 61,
   "id": "3c98c86b",
   "metadata": {},
   "outputs": [
    {
     "data": {
      "text/plain": [
       "(10,)"
      ]
     },
     "execution_count": 61,
     "metadata": {},
     "output_type": "execute_result"
    }
   ],
   "source": [
    "## hidden output result \n",
    "\n",
    "ouput_result = np.dot(norm_hidden_representation, weight_hidden_output)\n",
    "ouput_result.shape"
   ]
  },
  {
   "cell_type": "code",
   "execution_count": 64,
   "id": "f29aa6c5",
   "metadata": {},
   "outputs": [
    {
     "data": {
      "text/plain": [
       "5"
      ]
     },
     "execution_count": 64,
     "metadata": {},
     "output_type": "execute_result"
    }
   ],
   "source": [
    "# Result of the forward pass\n",
    "ouput_result.argmax()"
   ]
  },
  {
   "cell_type": "code",
   "execution_count": null,
   "id": "16af9de2",
   "metadata": {},
   "outputs": [],
   "source": []
  }
 ],
 "metadata": {
  "kernelspec": {
   "display_name": "Python 3 (ipykernel)",
   "language": "python",
   "name": "python3"
  },
  "language_info": {
   "codemirror_mode": {
    "name": "ipython",
    "version": 3
   },
   "file_extension": ".py",
   "mimetype": "text/x-python",
   "name": "python",
   "nbconvert_exporter": "python",
   "pygments_lexer": "ipython3",
   "version": "3.8.2"
  }
 },
 "nbformat": 4,
 "nbformat_minor": 5
}
