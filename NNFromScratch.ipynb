{
 "cells": [
  {
   "cell_type": "markdown",
   "id": "0e9128f2",
   "metadata": {},
   "source": [
    "### Introduction"
   ]
  },
  {
   "cell_type": "markdown",
   "id": "b43cf990",
   "metadata": {},
   "source": [
    "The goal of this notebook is to build from scratch a neural network for an image classficiation task.\n",
    "\n",
    "This is to have a good grasp of deep learning concepts .."
   ]
  },
  {
   "cell_type": "markdown",
   "id": "8c44e778",
   "metadata": {},
   "source": [
    "## Plan"
   ]
  },
  {
   "cell_type": "markdown",
   "id": "dccca0e2",
   "metadata": {},
   "source": [
    "**1-** Prepare the dataset\n",
    "\n",
    "**2-** Implementing the forward pass\n",
    "\n",
    "**3-** Implementing the backwad pass\n",
    "\n",
    "**4-** Evaluating the performance of the nn\n",
    "\n",
    "**5-** Experiments with the nn parametres and how they affect the performances \n",
    "\n",
    "Some questions that we want to answer are : \n",
    "\n",
    "* Can we find some correlation between the variance in the dataset and the size of the neural network? \n",
    "* Is the bias part of the neurons important in the task?\n",
    "* Does the activation function affects the value to be choosen for the learning rate"
   ]
  },
  {
   "cell_type": "markdown",
   "id": "c0e8dec1",
   "metadata": {},
   "source": [
    "## 1-  Loading the dataset"
   ]
  },
  {
   "cell_type": "code",
   "execution_count": 5,
   "id": "6fe544e9",
   "metadata": {},
   "outputs": [
    {
     "name": "stdout",
     "output_type": "stream",
     "text": [
      "Training data shape: (60000, 28, 28)\n",
      "Training labels shape: (60000,)\n",
      "Test data shape: (10000, 28, 28)\n",
      "Test labels shape: (10000,)\n"
     ]
    }
   ],
   "source": [
    "import tensorflow as tf\n",
    "\n",
    "# Load the MNIST dataset\n",
    "mnist = tf.keras.datasets.mnist\n",
    "(x_train, y_train), (x_test, y_test) = mnist.load_data()\n",
    "\n",
    "# Display the shape of the loaded data\n",
    "print(\"Training data shape:\", x_train.shape)  # (60000, 28, 28)\n",
    "print(\"Training labels shape:\", y_train.shape)  # (60000,)\n",
    "print(\"Test data shape:\", x_test.shape)  # (10000, 28, 28)\n",
    "print(\"Test labels shape:\", y_test.shape)  # (10000,)"
   ]
  },
  {
   "cell_type": "markdown",
   "id": "41459d3c",
   "metadata": {},
   "source": [
    "##  2-  Visualizing the dataset"
   ]
  },
  {
   "cell_type": "code",
   "execution_count": 6,
   "id": "9642a8f9",
   "metadata": {},
   "outputs": [
    {
     "data": {
      "image/png": "[encoded data removed]",
      "text/plain": [
       "<Figure size 432x288 with 1 Axes>"
      ]
     },
     "metadata": {
      "needs_background": "light"
     },
     "output_type": "display_data"
    }
   ],
   "source": [
    "import matplotlib.pyplot as plt\n",
    "import numpy as np\n",
    "\n",
    "random_idx = np.random.randint(1000)\n",
    "\n",
    "image = x_train[random_idx]\n",
    "label = y_train[random_idx]\n",
    "\n",
    "\n",
    "def visualize_image(image, label):\n",
    "    plt.imshow(image, cmap='gray')  # Display the image\n",
    "    plt.axis('off')  # Turn off the axes\n",
    "    plt.title(label)\n",
    "    plt.show()  # Show the image\n",
    "    \n",
    "visualize_image(image, label)"
   ]
  },
  {
   "cell_type": "markdown",
   "id": "026407de",
   "metadata": {},
   "source": [
    "==> Each image is a **28*28** pixels, which gives a list of **784** elements"
   ]
  },
  {
   "cell_type": "markdown",
   "id": "1adace72",
   "metadata": {},
   "source": [
    "## 3- Implementing the forward pass"
   ]
  },
  {
   "cell_type": "markdown",
   "id": "b4bd6c35",
   "metadata": {},
   "source": [
    "Our neural network, would be such that there is only one hidden layer with **300** neurons, and the output layer with **10**neurons\n",
    "\n",
    "For now, the activations functions would be all linear, and in to generate the output we take the argmax.\n",
    "\n",
    "Our loss function will be the Mean Squared Error, aka **MSE**"
   ]
  },
  {
   "cell_type": "code",
   "execution_count": 7,
   "id": "27c41a1d",
   "metadata": {},
   "outputs": [],
   "source": [
    "input_layer = image.flatten()"
   ]
  },
  {
   "cell_type": "code",
   "execution_count": 8,
   "id": "b2a15531",
   "metadata": {},
   "outputs": [
    {
     "name": "stdout",
     "output_type": "stream",
     "text": [
      "784\n"
     ]
    }
   ],
   "source": [
    "## Initializing the weights linking the input layer with the hidden layer\n",
    "\n",
    "size_input_layer = len(input_layer) #784\n",
    "size_hidden_layer = 300\n",
    "size_output_layer = 10\n",
    "print(len(input_layer))\n",
    "\n",
    "def init_weights():\n",
    "    weight_input_hidden = np.random.random((size_input_layer, size_hidden_layer))\n",
    "    weight_hidden_output = np.random.random((size_hidden_layer, size_output_layer))\n",
    "    \n",
    "    return weight_input_hidden, weight_hidden_output\n",
    "\n",
    "weight_input_hidden, weight_hidden_output = init_weights()\n",
    "weights = weight_input_hidden, weight_hidden_output"
   ]
  },
  {
   "cell_type": "code",
   "execution_count": 9,
   "id": "96a69d14",
   "metadata": {},
   "outputs": [
    {
     "data": {
      "text/plain": [
       "(300,)"
      ]
     },
     "execution_count": 9,
     "metadata": {},
     "output_type": "execute_result"
    }
   ],
   "source": [
    "# Hidden layer result\n",
    "hidden_representation = np.dot(input_layer, weight_input_hidden)\n",
    "\n",
    "# Min max normalization\n",
    "mi = hidden_representation.min()\n",
    "ma = hidden_representation.max()\n",
    "\n",
    "# min max normalization\n",
    "norm_hidden_representation = (hidden_representation - mi)/(ma-mi)"
   ]
  },
  {
   "cell_type": "code",
   "execution_count": 11,
   "id": "1b7c3057",
   "metadata": {},
   "outputs": [
    {
     "data": {
      "text/plain": [
       "<matplotlib.image.AxesImage at 0x1bf517e23d0>"
      ]
     },
     "execution_count": 11,
     "metadata": {},
     "output_type": "execute_result"
    },
    {
     "data": {
      "image/png": "[encoded data removed]",
      "text/plain": [
       "<Figure size 432x288 with 1 Axes>"
      ]
     },
     "metadata": {
      "needs_background": "light"
     },
     "output_type": "display_data"
    }
   ],
   "source": [
    "plt.imshow(norm_hidden_representation.reshape(15,20), cmap='gray')  # Display the image"
   ]
  },
  {
   "cell_type": "code",
   "execution_count": 12,
   "id": "3c98c86b",
   "metadata": {},
   "outputs": [
    {
     "data": {
      "text/plain": [
       "(10,)"
      ]
     },
     "execution_count": 12,
     "metadata": {},
     "output_type": "execute_result"
    }
   ],
   "source": [
    "## hidden output result \n",
    "\n",
    "ouput_result = np.dot(norm_hidden_representation, weight_hidden_output)\n",
    "ouput_result.shape"
   ]
  },
  {
   "cell_type": "code",
   "execution_count": 13,
   "id": "f29aa6c5",
   "metadata": {},
   "outputs": [
    {
     "data": {
      "text/plain": [
       "1"
      ]
     },
     "execution_count": 13,
     "metadata": {},
     "output_type": "execute_result"
    }
   ],
   "source": [
    "# Result of the forward pass\n",
    "ouput_result.argmax()"
   ]
  },
  {
   "cell_type": "code",
   "execution_count": 31,
   "id": "16af9de2",
   "metadata": {},
   "outputs": [],
   "source": [
    "# Defining the function that takes as an input the input layer(vector) and parameters and returns the predicted written number\n",
    "def predict_number(input_layer, weights):\n",
    "    size_input_layer = len(input_layer) #784\n",
    "    size_hidden_layer = 300\n",
    "    size_output_layer = 10\n",
    "    \n",
    "    weights = weight_input_hidden, weight_hidden_output\n",
    "\n",
    "    hidden_representation = np.dot(input_layer, weight_input_hidden)\n",
    "    mi = hidden_representation.min()\n",
    "    ma = hidden_representation.max()\n",
    "\n",
    "    # min max normalization\n",
    "    norm_hidden_representation = (hidden_representation - mi)/(ma-mi)\n",
    "\n",
    "    ouput_result = np.dot(norm_hidden_representation, weight_hidden_output)\n",
    "    # Result of the forward pass\n",
    "    result = ouput_result.argmax()\n",
    "    return result\n"
   ]
  },
  {
   "cell_type": "code",
   "execution_count": 40,
   "id": "38dc3504",
   "metadata": {},
   "outputs": [],
   "source": [
    "# Defining the function that takes as an input the input layer(vector) and parameters and returns the hidden representation and the output result\n",
    "def forward_pass(input_layer, weights):\n",
    "    size_input_layer = len(input_layer) #784\n",
    "    size_hidden_layer = 300\n",
    "    size_output_layer = 10\n",
    "    \n",
    "    weights = weight_input_hidden, weight_hidden_output\n",
    "    \n",
    "    hidden_representation = np.dot(input_layer, weight_input_hidden)\n",
    "    mi = hidden_representation.min()\n",
    "    ma = hidden_representation.max()\n",
    "\n",
    "    # min max normalization\n",
    "    norm_hidden_representation = (hidden_representation - mi)/(ma-mi)\n",
    "\n",
    "    output_result = np.dot(norm_hidden_representation, weight_hidden_output)\n",
    "    \n",
    "    return hidden_representation, output_result"
   ]
  },
  {
   "cell_type": "code",
   "execution_count": 32,
   "id": "1e342005",
   "metadata": {},
   "outputs": [
    {
     "data": {
      "image/png": "[encoded data removed]",
      "text/plain": [
       "<Figure size 432x288 with 1 Axes>"
      ]
     },
     "metadata": {
      "needs_background": "light"
     },
     "output_type": "display_data"
    },
    {
     "data": {
      "text/plain": [
       "1"
      ]
     },
     "execution_count": 32,
     "metadata": {},
     "output_type": "execute_result"
    }
   ],
   "source": [
    "#Test\n",
    "visualize_image(image, label)\n",
    "predict_number(input_layer, weights)"
   ]
  },
  {
   "cell_type": "markdown",
   "id": "6c65cdad",
   "metadata": {},
   "source": [
    "## 4- Implementing the backward pass:"
   ]
  },
  {
   "cell_type": "markdown",
   "id": "613b62f0",
   "metadata": {},
   "source": [
    "This section would modify the *input_hidden_weights* and *hidden_output_weights* in order to make better predictions.\n",
    "\n",
    "The weights modifications would be based on the backpropagation algorithms"
   ]
  },
  {
   "cell_type": "code",
   "execution_count": 17,
   "id": "78149688",
   "metadata": {},
   "outputs": [],
   "source": [
    "def MSE(predicted, desired):\n",
    "    # This function takes as input numpy arrays and not lists\n",
    "    diff = 1/2 * ((predicted - desired)**2).sum()\n",
    "    return diff"
   ]
  },
  {
   "cell_type": "code",
   "execution_count": 43,
   "id": "6e7365aa",
   "metadata": {},
   "outputs": [],
   "source": [
    "def full_backward_pass(weights, image, label, lr = 0.01, lamda = 0.01):\n",
    "    # We only modify the weights between the last and the penultimate layer\n",
    "    # weights is a tuple of matrices : weight_input_hidden & weight_hidden_output\n",
    "\n",
    "    size_hidden_layer = 300\n",
    "    size_output_layer = 10\n",
    "\n",
    "    # one hot encoding the label\n",
    "    desired = np.zeros(size_output_layer)\n",
    "    desired[int(label)] = 1\n",
    "\n",
    "    weight_input_hidden, weight_hidden_output = weights\n",
    "    new_weight_input_hidden, new_weight_hidden_output = weight_input_hidden.copy(), weight_hidden_output.copy()\n",
    "\n",
    "    input_layer = image.flatten() # flattening the image\n",
    "\n",
    "    hidden_representation, output_result = forward_pass(input_layer, (weight_input_hidden, weight_hidden_output)) # forward pass\n",
    "\n",
    "    output_result =  tf.nn.softmax(output_result) # softmax operation\n",
    "\n",
    "    delta_matrix = np.zeros((size_hidden_layer, size_output_layer))\n",
    "\n",
    "    # gradient descent iteration # backward pass for the second layer\n",
    "    for k in range(size_output_layer):\n",
    "        for j in range(size_hidden_layer):\n",
    "            delta = (output_result[k] - desired[k]) * hidden_representation[j] * (1 - output_result[k]) * output_result[k]\n",
    "            new_weight_hidden_output[j][k] = (1-lamda) * new_weight_hidden_output[j][k] - lr*delta\n",
    "\n",
    "            delta_matrix[j][k] = delta\n",
    "\n",
    "    for j in range(size_hidden_layer):\n",
    "        for i in range(size_input_layer):\n",
    "            delta = np.sum(new_weight_hidden_output[j]* (delta_matrix[j]) * input_layer[i] / hidden_representation[j])\n",
    "            new_weight_input_hidden[i][j] = (1-lamda) * new_weight_input_hidden[i][j] - lr*delta\n",
    "\n",
    "\n",
    "    return new_weight_input_hidden, new_weight_hidden_output"
   ]
  },
  {
   "cell_type": "code",
   "execution_count": 20,
   "id": "16af90cc",
   "metadata": {},
   "outputs": [],
   "source": [
    "# testing the backward pass \n",
    "\n",
    "# preparing the args\n",
    "random_idx += 1 \n",
    "\n",
    "weights = weight_input_hidden, weight_hidden_output\n",
    "image = x_train[random_idx]; input_layer = image.flatten()\n",
    "label = y_train[random_idx]\n",
    "\n",
    "# one hot encoding\n",
    "desired = np.zeros(size_output_layer)\n",
    "desired[int(label)] = 1"
   ]
  },
  {
   "cell_type": "code",
   "execution_count": 21,
   "id": "2a603f18",
   "metadata": {},
   "outputs": [
    {
     "data": {
      "image/png": "[encoded data removed]",
      "text/plain": [
       "<Figure size 432x288 with 1 Axes>"
      ]
     },
     "metadata": {
      "needs_background": "light"
     },
     "output_type": "display_data"
    }
   ],
   "source": [
    "visualize_image(image, label)"
   ]
  },
  {
   "cell_type": "code",
   "execution_count": 22,
   "id": "136f29b4",
   "metadata": {},
   "outputs": [],
   "source": [
    "# skip if you don't want to perform the backward pass\n",
    "new_weight_input_hidden, new_weight_hidden_output = full_backward_pass(weights, image, label)"
   ]
  },
  {
   "cell_type": "code",
   "execution_count": 23,
   "id": "c0ab06bd",
   "metadata": {},
   "outputs": [
    {
     "data": {
      "text/plain": [
       "3.4136043127399244e-84"
      ]
     },
     "execution_count": 23,
     "metadata": {},
     "output_type": "execute_result"
    }
   ],
   "source": [
    "_, new_output = forward_pass(input_layer, new_weight_input_hidden, new_weight_hidden_output)\n",
    "norm_new_output = np.array(tf.nn.softmax(new_output)) # transforming the logits to probs\n",
    "MSE(norm_new_output, desired)"
   ]
  },
  {
   "cell_type": "code",
   "execution_count": 24,
   "id": "17557509",
   "metadata": {},
   "outputs": [
    {
     "data": {
      "text/plain": [
       "0.6459272434780764"
      ]
     },
     "execution_count": 24,
     "metadata": {},
     "output_type": "execute_result"
    }
   ],
   "source": [
    "_, old_output = forward_pass(input_layer, weight_input_hidden, weight_hidden_output)\n",
    "norm_old_output = np.array(tf.nn.softmax(old_output))\n",
    "MSE(norm_old_output, desired)"
   ]
  },
  {
   "cell_type": "code",
   "execution_count": 25,
   "id": "cd8066d4",
   "metadata": {},
   "outputs": [
    {
     "data": {
      "text/plain": [
       "array([ -566.43265672, -2077.36766018,   165.18731242,    68.2126297 ,\n",
       "          68.93283493, -1460.00896443,    68.84528575,    68.73770625,\n",
       "          53.12113376,    45.20348252])"
      ]
     },
     "execution_count": 25,
     "metadata": {},
     "output_type": "execute_result"
    }
   ],
   "source": [
    "new_output"
   ]
  },
  {
   "cell_type": "markdown",
   "id": "3f8ed5ae",
   "metadata": {},
   "source": [
    "## 5 - Training and Validation loop:"
   ]
  },
  {
   "cell_type": "code",
   "execution_count": 46,
   "id": "51d41464",
   "metadata": {},
   "outputs": [],
   "source": [
    "from tqdm import tqdm\n",
    "\n",
    "def train(weights, train_data, val_data = None):\n",
    "    weight_input_hidden, weight_hidden_output = weights\n",
    "    images, labels = train_data\n",
    "    \n",
    "    for idx, (image, label) in tqdm(enumerate(zip(images, labels))):\n",
    "        new_weight_input_hidden, new_weight_hidden_output = full_backward_pass(weights, image, label)\n",
    "        weights = new_weight_input_hidden, new_weight_hidden_output\n",
    "        \n",
    "        if (val_data != None) & (idx%3 == 0) & (idx !=0):\n",
    "            metric_value = validate(weights, val_data)\n",
    "            print(f\"Metric value: {idx}th image: {metric_value}\")\n",
    "            \n",
    "    return weights"
   ]
  },
  {
   "cell_type": "code",
   "execution_count": 47,
   "id": "e8cd7652",
   "metadata": {},
   "outputs": [],
   "source": [
    "def validate(weights, val_data):\n",
    "    weight_input_hidden, weight_hidden_output = weights\n",
    "    images, labels = val_data\n",
    "    \n",
    "    predicted_labels = []\n",
    "    for image in images:\n",
    "        input_layer = image.flatten()\n",
    "        _, logits = forward_pass(input_layer, weights)\n",
    "        predicted_label = np.argmax(logits)\n",
    "        predicted_labels.append(predicted_label)\n",
    "        \n",
    "    return sum(predicted_labels == labels)/labels.shape[0]"
   ]
  },
  {
   "cell_type": "code",
   "execution_count": 54,
   "id": "f58e81d4",
   "metadata": {},
   "outputs": [],
   "source": [
    "# Preparing data\n",
    "train_size = 200\n",
    "val_size = 1000\n",
    "\n",
    "train_data = x_train[:train_size], y_train[:train_size]\n",
    "val_data = x_test[:val_size], y_test[:val_size]\n",
    "#weights = init_weights()"
   ]
  },
  {
   "cell_type": "code",
   "execution_count": 55,
   "id": "9595fe5f",
   "metadata": {},
   "outputs": [
    {
     "name": "stderr",
     "output_type": "stream",
     "text": [
      "4it [00:17,  4.28s/it]"
     ]
    },
    {
     "name": "stdout",
     "output_type": "stream",
     "text": [
      "Metric value: 3th image: 0.139\n"
     ]
    },
    {
     "name": "stderr",
     "output_type": "stream",
     "text": [
      "7it [00:29,  4.28s/it]"
     ]
    },
    {
     "name": "stdout",
     "output_type": "stream",
     "text": [
      "Metric value: 6th image: 0.139\n"
     ]
    },
    {
     "name": "stderr",
     "output_type": "stream",
     "text": [
      "10it [00:42,  4.28s/it]"
     ]
    },
    {
     "name": "stdout",
     "output_type": "stream",
     "text": [
      "Metric value: 9th image: 0.139\n"
     ]
    },
    {
     "name": "stderr",
     "output_type": "stream",
     "text": [
      "13it [00:55,  4.27s/it]"
     ]
    },
    {
     "name": "stdout",
     "output_type": "stream",
     "text": [
      "Metric value: 12th image: 0.139\n"
     ]
    },
    {
     "name": "stderr",
     "output_type": "stream",
     "text": [
      "16it [01:08,  4.28s/it]"
     ]
    },
    {
     "name": "stdout",
     "output_type": "stream",
     "text": [
      "Metric value: 15th image: 0.139\n"
     ]
    },
    {
     "name": "stderr",
     "output_type": "stream",
     "text": [
      "19it [01:20,  4.28s/it]"
     ]
    },
    {
     "name": "stdout",
     "output_type": "stream",
     "text": [
      "Metric value: 18th image: 0.139\n"
     ]
    },
    {
     "name": "stderr",
     "output_type": "stream",
     "text": [
      "22it [01:33,  4.28s/it]"
     ]
    },
    {
     "name": "stdout",
     "output_type": "stream",
     "text": [
      "Metric value: 21th image: 0.139\n"
     ]
    },
    {
     "name": "stderr",
     "output_type": "stream",
     "text": [
      "25it [01:46,  4.27s/it]"
     ]
    },
    {
     "name": "stdout",
     "output_type": "stream",
     "text": [
      "Metric value: 24th image: 0.139\n"
     ]
    },
    {
     "name": "stderr",
     "output_type": "stream",
     "text": [
      "28it [01:59,  4.26s/it]"
     ]
    },
    {
     "name": "stdout",
     "output_type": "stream",
     "text": [
      "Metric value: 27th image: 0.139\n"
     ]
    },
    {
     "name": "stderr",
     "output_type": "stream",
     "text": [
      "31it [02:12,  4.27s/it]"
     ]
    },
    {
     "name": "stdout",
     "output_type": "stream",
     "text": [
      "Metric value: 30th image: 0.139\n"
     ]
    },
    {
     "name": "stderr",
     "output_type": "stream",
     "text": [
      "34it [02:24,  4.27s/it]"
     ]
    },
    {
     "name": "stdout",
     "output_type": "stream",
     "text": [
      "Metric value: 33th image: 0.139\n"
     ]
    },
    {
     "name": "stderr",
     "output_type": "stream",
     "text": [
      "37it [02:37,  4.27s/it]"
     ]
    },
    {
     "name": "stdout",
     "output_type": "stream",
     "text": [
      "Metric value: 36th image: 0.139\n"
     ]
    },
    {
     "name": "stderr",
     "output_type": "stream",
     "text": [
      "40it [02:50,  4.29s/it]"
     ]
    },
    {
     "name": "stdout",
     "output_type": "stream",
     "text": [
      "Metric value: 39th image: 0.139\n"
     ]
    },
    {
     "name": "stderr",
     "output_type": "stream",
     "text": [
      "43it [03:03,  4.28s/it]"
     ]
    },
    {
     "name": "stdout",
     "output_type": "stream",
     "text": [
      "Metric value: 42th image: 0.139\n"
     ]
    },
    {
     "name": "stderr",
     "output_type": "stream",
     "text": [
      "46it [03:15,  4.27s/it]"
     ]
    },
    {
     "name": "stdout",
     "output_type": "stream",
     "text": [
      "Metric value: 45th image: 0.139\n"
     ]
    },
    {
     "name": "stderr",
     "output_type": "stream",
     "text": [
      "49it [03:28,  4.29s/it]"
     ]
    },
    {
     "name": "stdout",
     "output_type": "stream",
     "text": [
      "Metric value: 48th image: 0.139\n"
     ]
    },
    {
     "name": "stderr",
     "output_type": "stream",
     "text": [
      "52it [03:41,  4.30s/it]"
     ]
    },
    {
     "name": "stdout",
     "output_type": "stream",
     "text": [
      "Metric value: 51th image: 0.139\n"
     ]
    },
    {
     "name": "stderr",
     "output_type": "stream",
     "text": [
      "55it [03:54,  4.29s/it]"
     ]
    },
    {
     "name": "stdout",
     "output_type": "stream",
     "text": [
      "Metric value: 54th image: 0.139\n"
     ]
    },
    {
     "name": "stderr",
     "output_type": "stream",
     "text": [
      "58it [04:07,  4.31s/it]"
     ]
    },
    {
     "name": "stdout",
     "output_type": "stream",
     "text": [
      "Metric value: 57th image: 0.139\n"
     ]
    },
    {
     "name": "stderr",
     "output_type": "stream",
     "text": [
      "61it [04:20,  4.28s/it]"
     ]
    },
    {
     "name": "stdout",
     "output_type": "stream",
     "text": [
      "Metric value: 60th image: 0.139\n"
     ]
    },
    {
     "name": "stderr",
     "output_type": "stream",
     "text": [
      "64it [04:33,  4.32s/it]"
     ]
    },
    {
     "name": "stdout",
     "output_type": "stream",
     "text": [
      "Metric value: 63th image: 0.139\n"
     ]
    },
    {
     "name": "stderr",
     "output_type": "stream",
     "text": [
      "67it [04:45,  4.32s/it]"
     ]
    },
    {
     "name": "stdout",
     "output_type": "stream",
     "text": [
      "Metric value: 66th image: 0.139\n"
     ]
    },
    {
     "name": "stderr",
     "output_type": "stream",
     "text": [
      "70it [04:58,  4.34s/it]"
     ]
    },
    {
     "name": "stdout",
     "output_type": "stream",
     "text": [
      "Metric value: 69th image: 0.139\n"
     ]
    },
    {
     "name": "stderr",
     "output_type": "stream",
     "text": [
      "73it [05:11,  4.34s/it]"
     ]
    },
    {
     "name": "stdout",
     "output_type": "stream",
     "text": [
      "Metric value: 72th image: 0.139\n"
     ]
    },
    {
     "name": "stderr",
     "output_type": "stream",
     "text": [
      "76it [05:24,  4.32s/it]"
     ]
    },
    {
     "name": "stdout",
     "output_type": "stream",
     "text": [
      "Metric value: 75th image: 0.139\n"
     ]
    },
    {
     "name": "stderr",
     "output_type": "stream",
     "text": [
      "79it [05:37,  4.32s/it]"
     ]
    },
    {
     "name": "stdout",
     "output_type": "stream",
     "text": [
      "Metric value: 78th image: 0.139\n"
     ]
    },
    {
     "name": "stderr",
     "output_type": "stream",
     "text": [
      "82it [05:50,  4.31s/it]"
     ]
    },
    {
     "name": "stdout",
     "output_type": "stream",
     "text": [
      "Metric value: 81th image: 0.139\n"
     ]
    },
    {
     "name": "stderr",
     "output_type": "stream",
     "text": [
      "85it [06:03,  4.30s/it]"
     ]
    },
    {
     "name": "stdout",
     "output_type": "stream",
     "text": [
      "Metric value: 84th image: 0.139\n"
     ]
    },
    {
     "name": "stderr",
     "output_type": "stream",
     "text": [
      "88it [06:16,  4.34s/it]"
     ]
    },
    {
     "name": "stdout",
     "output_type": "stream",
     "text": [
      "Metric value: 87th image: 0.139\n"
     ]
    },
    {
     "name": "stderr",
     "output_type": "stream",
     "text": [
      "91it [06:29,  4.31s/it]"
     ]
    },
    {
     "name": "stdout",
     "output_type": "stream",
     "text": [
      "Metric value: 90th image: 0.139\n"
     ]
    },
    {
     "name": "stderr",
     "output_type": "stream",
     "text": [
      "94it [06:42,  4.34s/it]"
     ]
    },
    {
     "name": "stdout",
     "output_type": "stream",
     "text": [
      "Metric value: 93th image: 0.139\n"
     ]
    },
    {
     "name": "stderr",
     "output_type": "stream",
     "text": [
      "97it [06:55,  4.31s/it]"
     ]
    },
    {
     "name": "stdout",
     "output_type": "stream",
     "text": [
      "Metric value: 96th image: 0.139\n"
     ]
    },
    {
     "name": "stderr",
     "output_type": "stream",
     "text": [
      "100it [07:08,  4.32s/it]"
     ]
    },
    {
     "name": "stdout",
     "output_type": "stream",
     "text": [
      "Metric value: 99th image: 0.139\n"
     ]
    },
    {
     "name": "stderr",
     "output_type": "stream",
     "text": [
      "103it [07:21,  4.41s/it]"
     ]
    },
    {
     "name": "stdout",
     "output_type": "stream",
     "text": [
      "Metric value: 102th image: 0.139\n"
     ]
    },
    {
     "name": "stderr",
     "output_type": "stream",
     "text": [
      "106it [07:34,  4.37s/it]"
     ]
    },
    {
     "name": "stdout",
     "output_type": "stream",
     "text": [
      "Metric value: 105th image: 0.139\n"
     ]
    },
    {
     "name": "stderr",
     "output_type": "stream",
     "text": [
      "109it [07:47,  4.36s/it]"
     ]
    },
    {
     "name": "stdout",
     "output_type": "stream",
     "text": [
      "Metric value: 108th image: 0.139\n"
     ]
    },
    {
     "name": "stderr",
     "output_type": "stream",
     "text": [
      "112it [08:00,  4.38s/it]"
     ]
    },
    {
     "name": "stdout",
     "output_type": "stream",
     "text": [
      "Metric value: 111th image: 0.139\n"
     ]
    },
    {
     "name": "stderr",
     "output_type": "stream",
     "text": [
      "115it [08:13,  4.38s/it]"
     ]
    },
    {
     "name": "stdout",
     "output_type": "stream",
     "text": [
      "Metric value: 114th image: 0.139\n"
     ]
    },
    {
     "name": "stderr",
     "output_type": "stream",
     "text": [
      "118it [08:26,  4.34s/it]"
     ]
    },
    {
     "name": "stdout",
     "output_type": "stream",
     "text": [
      "Metric value: 117th image: 0.139\n"
     ]
    },
    {
     "name": "stderr",
     "output_type": "stream",
     "text": [
      "121it [08:39,  4.39s/it]"
     ]
    },
    {
     "name": "stdout",
     "output_type": "stream",
     "text": [
      "Metric value: 120th image: 0.139\n"
     ]
    },
    {
     "name": "stderr",
     "output_type": "stream",
     "text": [
      "124it [08:52,  4.35s/it]"
     ]
    },
    {
     "name": "stdout",
     "output_type": "stream",
     "text": [
      "Metric value: 123th image: 0.139\n"
     ]
    },
    {
     "name": "stderr",
     "output_type": "stream",
     "text": [
      "127it [09:05,  4.34s/it]"
     ]
    },
    {
     "name": "stdout",
     "output_type": "stream",
     "text": [
      "Metric value: 126th image: 0.139\n"
     ]
    },
    {
     "name": "stderr",
     "output_type": "stream",
     "text": [
      "130it [09:18,  4.35s/it]"
     ]
    },
    {
     "name": "stdout",
     "output_type": "stream",
     "text": [
      "Metric value: 129th image: 0.139\n"
     ]
    },
    {
     "name": "stderr",
     "output_type": "stream",
     "text": [
      "133it [09:31,  4.33s/it]"
     ]
    },
    {
     "name": "stdout",
     "output_type": "stream",
     "text": [
      "Metric value: 132th image: 0.139\n"
     ]
    },
    {
     "name": "stderr",
     "output_type": "stream",
     "text": [
      "136it [09:44,  4.30s/it]"
     ]
    },
    {
     "name": "stdout",
     "output_type": "stream",
     "text": [
      "Metric value: 135th image: 0.139\n"
     ]
    },
    {
     "name": "stderr",
     "output_type": "stream",
     "text": [
      "139it [09:57,  4.28s/it]"
     ]
    },
    {
     "name": "stdout",
     "output_type": "stream",
     "text": [
      "Metric value: 138th image: 0.139\n"
     ]
    },
    {
     "name": "stderr",
     "output_type": "stream",
     "text": [
      "142it [10:10,  4.32s/it]"
     ]
    },
    {
     "name": "stdout",
     "output_type": "stream",
     "text": [
      "Metric value: 141th image: 0.139\n"
     ]
    },
    {
     "name": "stderr",
     "output_type": "stream",
     "text": [
      "145it [10:23,  4.35s/it]"
     ]
    },
    {
     "name": "stdout",
     "output_type": "stream",
     "text": [
      "Metric value: 144th image: 0.139\n"
     ]
    },
    {
     "name": "stderr",
     "output_type": "stream",
     "text": [
      "148it [10:36,  4.35s/it]"
     ]
    },
    {
     "name": "stdout",
     "output_type": "stream",
     "text": [
      "Metric value: 147th image: 0.139\n"
     ]
    },
    {
     "name": "stderr",
     "output_type": "stream",
     "text": [
      "151it [10:49,  4.36s/it]"
     ]
    },
    {
     "name": "stdout",
     "output_type": "stream",
     "text": [
      "Metric value: 150th image: 0.139\n"
     ]
    },
    {
     "name": "stderr",
     "output_type": "stream",
     "text": [
      "154it [11:02,  4.32s/it]"
     ]
    },
    {
     "name": "stdout",
     "output_type": "stream",
     "text": [
      "Metric value: 153th image: 0.139\n"
     ]
    },
    {
     "name": "stderr",
     "output_type": "stream",
     "text": [
      "157it [11:14,  4.31s/it]"
     ]
    },
    {
     "name": "stdout",
     "output_type": "stream",
     "text": [
      "Metric value: 156th image: 0.139\n"
     ]
    },
    {
     "name": "stderr",
     "output_type": "stream",
     "text": [
      "160it [11:27,  4.34s/it]"
     ]
    },
    {
     "name": "stdout",
     "output_type": "stream",
     "text": [
      "Metric value: 159th image: 0.139\n"
     ]
    },
    {
     "name": "stderr",
     "output_type": "stream",
     "text": [
      "163it [11:41,  4.38s/it]"
     ]
    },
    {
     "name": "stdout",
     "output_type": "stream",
     "text": [
      "Metric value: 162th image: 0.139\n"
     ]
    },
    {
     "name": "stderr",
     "output_type": "stream",
     "text": [
      "166it [11:54,  4.36s/it]"
     ]
    },
    {
     "name": "stdout",
     "output_type": "stream",
     "text": [
      "Metric value: 165th image: 0.139\n"
     ]
    },
    {
     "name": "stderr",
     "output_type": "stream",
     "text": [
      "169it [12:07,  4.34s/it]"
     ]
    },
    {
     "name": "stdout",
     "output_type": "stream",
     "text": [
      "Metric value: 168th image: 0.139\n"
     ]
    },
    {
     "name": "stderr",
     "output_type": "stream",
     "text": [
      "172it [12:20,  4.36s/it]"
     ]
    },
    {
     "name": "stdout",
     "output_type": "stream",
     "text": [
      "Metric value: 171th image: 0.139\n"
     ]
    },
    {
     "name": "stderr",
     "output_type": "stream",
     "text": [
      "175it [12:32,  4.31s/it]"
     ]
    },
    {
     "name": "stdout",
     "output_type": "stream",
     "text": [
      "Metric value: 174th image: 0.139\n"
     ]
    },
    {
     "name": "stderr",
     "output_type": "stream",
     "text": [
      "178it [12:45,  4.28s/it]"
     ]
    },
    {
     "name": "stdout",
     "output_type": "stream",
     "text": [
      "Metric value: 177th image: 0.139\n"
     ]
    },
    {
     "name": "stderr",
     "output_type": "stream",
     "text": [
      "181it [12:58,  4.30s/it]"
     ]
    },
    {
     "name": "stdout",
     "output_type": "stream",
     "text": [
      "Metric value: 180th image: 0.139\n"
     ]
    },
    {
     "name": "stderr",
     "output_type": "stream",
     "text": [
      "184it [13:11,  4.27s/it]"
     ]
    },
    {
     "name": "stdout",
     "output_type": "stream",
     "text": [
      "Metric value: 183th image: 0.139\n"
     ]
    },
    {
     "name": "stderr",
     "output_type": "stream",
     "text": [
      "187it [13:24,  4.29s/it]"
     ]
    },
    {
     "name": "stdout",
     "output_type": "stream",
     "text": [
      "Metric value: 186th image: 0.139\n"
     ]
    },
    {
     "name": "stderr",
     "output_type": "stream",
     "text": [
      "190it [13:36,  4.29s/it]"
     ]
    },
    {
     "name": "stdout",
     "output_type": "stream",
     "text": [
      "Metric value: 189th image: 0.139\n"
     ]
    },
    {
     "name": "stderr",
     "output_type": "stream",
     "text": [
      "193it [13:49,  4.29s/it]"
     ]
    },
    {
     "name": "stdout",
     "output_type": "stream",
     "text": [
      "Metric value: 192th image: 0.139\n"
     ]
    },
    {
     "name": "stderr",
     "output_type": "stream",
     "text": [
      "196it [14:02,  4.30s/it]"
     ]
    },
    {
     "name": "stdout",
     "output_type": "stream",
     "text": [
      "Metric value: 195th image: 0.139\n"
     ]
    },
    {
     "name": "stderr",
     "output_type": "stream",
     "text": [
      "199it [14:15,  4.30s/it]"
     ]
    },
    {
     "name": "stdout",
     "output_type": "stream",
     "text": [
      "Metric value: 198th image: 0.139\n"
     ]
    },
    {
     "name": "stderr",
     "output_type": "stream",
     "text": [
      "200it [14:19,  4.30s/it]\n"
     ]
    }
   ],
   "source": [
    "weights = train(weights, train_data, val_data)"
   ]
  },
  {
   "cell_type": "code",
   "execution_count": 45,
   "id": "72d9994b",
   "metadata": {},
   "outputs": [
    {
     "data": {
      "text/plain": [
       "0.139"
      ]
     },
     "execution_count": 45,
     "metadata": {},
     "output_type": "execute_result"
    }
   ],
   "source": [
    "validate(weights, val_data)"
   ]
  },
  {
   "cell_type": "code",
   "execution_count": 56,
   "id": "13bbcdd4",
   "metadata": {},
   "outputs": [
    {
     "ename": "SyntaxError",
     "evalue": "invalid character in identifier (4094643480.py, line 3)",
     "output_type": "error",
     "traceback": [
      "\u001b[1;36m  Input \u001b[1;32mIn [56]\u001b[1;36m\u001b[0m\n\u001b[1;33m    fig = px.histogram(train_dat²a[1], nbins=10, title='Training data distribution')\u001b[0m\n\u001b[1;37m                                 ^\u001b[0m\n\u001b[1;31mSyntaxError\u001b[0m\u001b[1;31m:\u001b[0m invalid character in identifier\n"
     ]
    }
   ],
   "source": [
    "import plotly.express as px\n",
    "\n",
    "fig = px.histogram(train_dat²a[1], nbins=10, title='Training data distribution')\n",
    "fig.update_xaxes(tickvals=np.arange(0, 10))\n",
    "fig.show()"
   ]
  },
  {
   "cell_type": "markdown",
   "id": "1d6b8f8d",
   "metadata": {},
   "source": [
    "## 6- Inference:"
   ]
  },
  {
   "cell_type": "code",
   "execution_count": 238,
   "id": "ee1fb8ff",
   "metadata": {},
   "outputs": [
    {
     "data": {
      "image/png": "[encoded data removed]",
      "text/plain": [
       "<Figure size 432x288 with 1 Axes>"
      ]
     },
     "metadata": {
      "needs_background": "light"
     },
     "output_type": "display_data"
    }
   ],
   "source": [
    "random_idx = np.random.randint(1000)\n",
    "\n",
    "image = x_train[random_idx]\n",
    "label = y_train[random_idx]\n",
    "\n",
    "\n",
    "visualize_image(image, label)\n",
    "input_layer = image.flatten()"
   ]
  },
  {
   "cell_type": "code",
   "execution_count": 239,
   "id": "3de34734",
   "metadata": {},
   "outputs": [
    {
     "data": {
      "text/plain": [
       "array([1., 0., 0., 0., 0., 0., 0., 0., 0., 0.])"
      ]
     },
     "execution_count": 239,
     "metadata": {},
     "output_type": "execute_result"
    }
   ],
   "source": [
    "_, new_output = forward_pass(input_layer, weights)\n",
    "norm_new_output = np.array(tf.nn.softmax(new_output)) # transforming the logits to probs\n",
    "norm_new_output"
   ]
  },
  {
   "cell_type": "code",
   "execution_count": 240,
   "id": "76baf725",
   "metadata": {},
   "outputs": [
    {
     "data": {
      "text/plain": [
       "array([ 3902.33107464,  -372.13481598,   -84.67525204, -1102.88252475,\n",
       "          71.83223788,    65.33776162, -1667.93226764,    62.59502226,\n",
       "          69.65177992,    61.82283493])"
      ]
     },
     "execution_count": 240,
     "metadata": {},
     "output_type": "execute_result"
    }
   ],
   "source": [
    "new_output"
   ]
  },
  {
   "cell_type": "code",
   "execution_count": 241,
   "id": "43752579",
   "metadata": {},
   "outputs": [
    {
     "data": {
      "image/png": "[encoded data removed]",
      "text/plain": [
       "<Figure size 432x288 with 1 Axes>"
      ]
     },
     "metadata": {
      "needs_background": "light"
     },
     "output_type": "display_data"
    }
   ],
   "source": [
    "import matplotlib.pyplot as plt\n",
    "\n",
    "x_indices = range(10)\n",
    "\n",
    "plt.bar(x_indices, new_output)\n",
    "plt.xlabel('Output neuron')\n",
    "plt.ylabel('Value')\n",
    "plt.title('Last layer viz - Bar Chart')\n",
    "\n",
    "# Customize x-axis tick labels\n",
    "plt.xticks(x_indices, x_indices)\n",
    "\n",
    "plt.show()\n"
   ]
  },
  {
   "cell_type": "code",
   "execution_count": null,
   "id": "ee95cfc1",
   "metadata": {},
   "outputs": [],
   "source": []
  }
 ],
 "metadata": {
  "kernelspec": {
   "display_name": "Python 3 (ipykernel)",
   "language": "python",
   "name": "python3"
  },
  "language_info": {
   "codemirror_mode": {
    "name": "ipython",
    "version": 3
   },
   "file_extension": ".py",
   "mimetype": "text/x-python",
   "name": "python",
   "nbconvert_exporter": "python",
   "pygments_lexer": "ipython3",
   "version": "3.8.2"
  }
 },
 "nbformat": 4,
 "nbformat_minor": 5
}
