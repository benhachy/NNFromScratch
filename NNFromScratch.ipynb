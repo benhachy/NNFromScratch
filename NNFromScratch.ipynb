{
 "cells": [
  {
   "cell_type": "markdown",
   "id": "0e9128f2",
   "metadata": {},
   "source": [
    "### Introduction"
   ]
  },
  {
   "cell_type": "markdown",
   "id": "b43cf990",
   "metadata": {},
   "source": [
    "The goal of this notebook is to build from scratch a neural network for an image classficiation task.\n",
    "\n",
    "This is to have a good grasp of deep learning concepts .."
   ]
  },
  {
   "cell_type": "markdown",
   "id": "8c44e778",
   "metadata": {},
   "source": [
    "## Plan"
   ]
  },
  {
   "cell_type": "markdown",
   "id": "dccca0e2",
   "metadata": {},
   "source": [
    "**1-** Prepare the dataset\n",
    "\n",
    "**2-** Implementing the forward pass\n",
    "\n",
    "**3-** Implementing the backwad pass\n",
    "\n",
    "**4-** Evaluating the performance of the nn\n",
    "\n",
    "**5-** Experiments with the nn parametres and how they affect the performances \n",
    "\n",
    "Some questions that we want to answer are : \n",
    "\n",
    "* Can we find some correlation between the variance in the dataset and the size of the neural network? \n",
    "* Is the bias part of the neurons important in the task?\n",
    "* Does the activation function affects the value to be choosen for the learning rate"
   ]
  },
  {
   "cell_type": "markdown",
   "id": "c0e8dec1",
   "metadata": {},
   "source": [
    "## 1-  Loading the dataset"
   ]
  },
  {
   "cell_type": "code",
   "execution_count": 26,
   "id": "6fe544e9",
   "metadata": {},
   "outputs": [
    {
     "name": "stdout",
     "output_type": "stream",
     "text": [
      "Training data shape: (60000, 28, 28)\n",
      "Training labels shape: (60000,)\n",
      "Test data shape: (10000, 28, 28)\n",
      "Test labels shape: (10000,)\n"
     ]
    }
   ],
   "source": [
    "import tensorflow as tf\n",
    "\n",
    "# Load the MNIST dataset                                \n",
    "mnist = tf.keras.datasets.mnist\n",
    "(x_train, y_train), (x_test, y_test) = mnist.load_data()\n",
    "\n",
    "# Shuffle the training data\n",
    "indices = tf.range(start=0, limit=tf.shape(x_train)[0], dtype=tf.int32)\n",
    "shuffled_indices = tf.random.shuffle(indices)\n",
    "\n",
    "x_train = tf.gather(x_train, shuffled_indices)\n",
    "y_train = tf.gather(y_train, shuffled_indices)\n",
    "\n",
    "# Convert tensors back to numpy arrays\n",
    "x_train = x_train.numpy()\n",
    "y_train = y_train.numpy()\n",
    "\n",
    "# Display the shape of the loaded data\n",
    "print(\"Training data shape:\", x_train.shape)  # (60000, 28, 28)\n",
    "print(\"Training labels shape:\", y_train.shape)  # (60000,)\n",
    "print(\"Test data shape:\", x_test.shape)  # (10000, 28, 28)\n",
    "print(\"Test labels shape:\", y_test.shape)  # (10000,)"
   ]
  },
  {
   "cell_type": "markdown",
   "id": "41459d3c",
   "metadata": {},
   "source": [
    "##  2-  Visualizing the dataset"
   ]
  },
  {
   "cell_type": "code",
   "execution_count": 27,
   "id": "9642a8f9",
   "metadata": {},
   "outputs": [
    {
     "data": {
      "image/png": "[encoded data removed]",
      "text/plain": [
       "<Figure size 640x480 with 1 Axes>"
      ]
     },
     "metadata": {},
     "output_type": "display_data"
    }
   ],
   "source": [
    "import matplotlib.pyplot as plt\n",
    "import numpy as np\n",
    "\n",
    "random_idx = np.random.randint(1000)\n",
    "\n",
    "image = x_train[random_idx]\n",
    "label = y_train[random_idx]\n",
    "\n",
    "\n",
    "def visualize_image(image, label):\n",
    "    plt.imshow(image, cmap='gray')  # Display the image\n",
    "    plt.axis('off')  # Turn off the axes\n",
    "    plt.title(label)\n",
    "    plt.show()  # Show the image\n",
    "    \n",
    "visualize_image(image, label)"
   ]
  },
  {
   "cell_type": "markdown",
   "id": "026407de",
   "metadata": {},
   "source": [
    "==> Each image is a **28*28** pixels, which gives a list of **784** elements"
   ]
  },
  {
   "cell_type": "markdown",
   "id": "1adace72",
   "metadata": {},
   "source": [
    "## 3- Implementing the forward pass"
   ]
  },
  {
   "cell_type": "markdown",
   "id": "b4bd6c35",
   "metadata": {},
   "source": [
    "Our neural network, would be such that there is only one hidden layer with **300** neurons, and the output layer with **10**neurons\n",
    "\n",
    "For now, the activations functions would be all linear, and in to generate the output we take the argmax.\n",
    "\n",
    "Our loss function will be the Mean Squared Error, aka **MSE**"
   ]
  },
  {
   "cell_type": "code",
   "execution_count": 28,
   "id": "27c41a1d",
   "metadata": {},
   "outputs": [],
   "source": [
    "input_layer = image.flatten()"
   ]
  },
  {
   "cell_type": "code",
   "execution_count": 29,
   "id": "b2a15531",
   "metadata": {},
   "outputs": [
    {
     "name": "stdout",
     "output_type": "stream",
     "text": [
      "784\n"
     ]
    }
   ],
   "source": [
    "## Initializing the weights linking the input layer with the hidden layer\n",
    "\n",
    "size_input_layer = len(input_layer) #784\n",
    "size_hidden_layer = 300\n",
    "size_output_layer = 10\n",
    "print(len(input_layer))\n",
    "\n",
    "def init_weights():\n",
    "    weight_input_hidden = np.random.random((size_input_layer, size_hidden_layer))\n",
    "    weight_hidden_output = np.random.random((size_hidden_layer, size_output_layer))\n",
    "    \n",
    "    return weight_input_hidden, weight_hidden_output\n",
    "\n",
    "weight_input_hidden, weight_hidden_output = init_weights()\n",
    "weights = weight_input_hidden, weight_hidden_output"
   ]
  },
  {
   "cell_type": "code",
   "execution_count": 59,
   "id": "7dc22bac",
   "metadata": {},
   "outputs": [],
   "source": [
    "def init_weights_he():\n",
    "    # He initialization for weight_input_hidden\n",
    "    limit_input_hidden = np.sqrt(2 / size_input_layer)\n",
    "    weight_input_hidden = np.random.randn(size_input_layer, size_hidden_layer) * limit_input_hidden\n",
    "    \n",
    "    # He initialization for weight_hidden_output\n",
    "    limit_hidden_output = np.sqrt(2 / size_hidden_layer)\n",
    "    weight_hidden_output = np.random.randn(size_hidden_layer, size_output_layer) * limit_hidden_output\n",
    "    \n",
    "    return weight_input_hidden, weight_hidden_output\n"
   ]
  },
  {
   "cell_type": "code",
   "execution_count": 30,
   "id": "d66bfa5a",
   "metadata": {},
   "outputs": [
    {
     "data": {
      "text/plain": [
       "((784, 300), (300, 10))"
      ]
     },
     "execution_count": 30,
     "metadata": {},
     "output_type": "execute_result"
    }
   ],
   "source": [
    "def init_weights_xavier():\n",
    "    # Xavier initialization for weight_input_hidden\n",
    "    limit_input_hidden = np.sqrt(6 / (size_input_layer + size_hidden_layer))\n",
    "    weight_input_hidden = np.random.uniform(-limit_input_hidden, limit_input_hidden, \n",
    "                                            (size_input_layer, size_hidden_layer))\n",
    "    \n",
    "    # Xavier initialization for weight_hidden_output\n",
    "    limit_hidden_output = np.sqrt(6 / (size_hidden_layer + size_output_layer))\n",
    "    weight_hidden_output = np.random.uniform(-limit_hidden_output, limit_hidden_output, \n",
    "                                             (size_hidden_layer, size_output_layer))\n",
    "    \n",
    "    return weight_input_hidden, weight_hidden_output\n",
    "\n",
    "# Test the initialization\n",
    "weights_xavier = init_weights_xavier()\n",
    "weights_xavier[0].shape, weights_xavier[1].shape  # Just to check if the shapes are correct\n"
   ]
  },
  {
   "cell_type": "code",
   "execution_count": 31,
   "id": "96a69d14",
   "metadata": {},
   "outputs": [],
   "source": [
    "# Hidden layer result\n",
    "hidden_representation = np.dot(input_layer, weight_input_hidden)\n",
    "\n",
    "# Min max normalization\n",
    "mi = hidden_representation.min()\n",
    "ma = hidden_representation.max()\n",
    "\n",
    "# min max normalization\n",
    "norm_hidden_representation = (hidden_representation - mi)/(ma-mi)"
   ]
  },
  {
   "cell_type": "code",
   "execution_count": 32,
   "id": "1b7c3057",
   "metadata": {},
   "outputs": [
    {
     "data": {
      "text/plain": [
       "<matplotlib.image.AxesImage at 0x1c48adc4ed0>"
      ]
     },
     "execution_count": 32,
     "metadata": {},
     "output_type": "execute_result"
    },
    {
     "data": {
      "image/png": "[encoded data removed]",
      "text/plain": [
       "<Figure size 640x480 with 1 Axes>"
      ]
     },
     "metadata": {},
     "output_type": "display_data"
    }
   ],
   "source": [
    "plt.imshow(norm_hidden_representation.reshape(15,20), cmap='gray')  # Display the image"
   ]
  },
  {
   "cell_type": "code",
   "execution_count": 33,
   "id": "3c98c86b",
   "metadata": {},
   "outputs": [
    {
     "data": {
      "text/plain": [
       "(10,)"
      ]
     },
     "execution_count": 33,
     "metadata": {},
     "output_type": "execute_result"
    }
   ],
   "source": [
    "## hidden output result \n",
    "\n",
    "ouput_result = np.dot(norm_hidden_representation, weight_hidden_output)\n",
    "ouput_result.shape"
   ]
  },
  {
   "cell_type": "code",
   "execution_count": 34,
   "id": "f29aa6c5",
   "metadata": {},
   "outputs": [
    {
     "data": {
      "text/plain": [
       "1"
      ]
     },
     "execution_count": 34,
     "metadata": {},
     "output_type": "execute_result"
    }
   ],
   "source": [
    "# Result of the forward pass\n",
    "ouput_result.argmax()"
   ]
  },
  {
   "cell_type": "code",
   "execution_count": 35,
   "id": "16af9de2",
   "metadata": {},
   "outputs": [],
   "source": [
    "# Defining the function that takes as an input the input layer(vector) and parameters and returns the predicted written number\n",
    "def predict_number(input_layer, weights):\n",
    "    size_input_layer = len(input_layer) #784\n",
    "    size_hidden_layer = 300\n",
    "    size_output_layer = 10\n",
    "    \n",
    "    weights = weight_input_hidden, weight_hidden_output\n",
    "\n",
    "    hidden_representation = np.dot(input_layer, weight_input_hidden)\n",
    "    mi = hidden_representation.min()\n",
    "    ma = hidden_representation.max()\n",
    "\n",
    "    # min max normalization\n",
    "    norm_hidden_representation = (hidden_representation - mi)/(ma-mi)\n",
    "\n",
    "    ouput_result = np.dot(norm_hidden_representation, weight_hidden_output)\n",
    "    # Result of the forward pass\n",
    "    result = ouput_result.argmax()\n",
    "    return result\n"
   ]
  },
  {
   "cell_type": "code",
   "execution_count": 243,
   "id": "38dc3504",
   "metadata": {},
   "outputs": [],
   "source": [
    "# Defining the function that takes as an input the input layer(vector) and parameters and returns the hidden representation and the output result\n",
    "def forward_pass(input_layer, weights):\n",
    "    \n",
    "    weight_input_hidden, weight_hidden_output = weights\n",
    "    \n",
    "    hidden_representation = np.dot(input_layer, weight_input_hidden)\n",
    "    \n",
    "    mean = np.mean(hidden_representation)\n",
    "    variance = np.var(hidden_representation)\n",
    "    epsilon = 10 **(-5)\n",
    "    scaled_hidden_representation = (hidden_representation - mean)/np.sqrt(variance + epsilon)\n",
    "\n",
    "    output_result = np.dot(scaled_hidden_representation, weight_hidden_output)\n",
    "    \n",
    "    return scaled_hidden_representation, output_result"
   ]
  },
  {
   "cell_type": "code",
   "execution_count": 37,
   "id": "1e342005",
   "metadata": {},
   "outputs": [
    {
     "data": {
      "image/png": "[encoded data removed]",
      "text/plain": [
       "<Figure size 640x480 with 1 Axes>"
      ]
     },
     "metadata": {},
     "output_type": "display_data"
    },
    {
     "data": {
      "text/plain": [
       "(300,)"
      ]
     },
     "execution_count": 37,
     "metadata": {},
     "output_type": "execute_result"
    }
   ],
   "source": [
    "#Test\n",
    "visualize_image(image, label)\n",
    "forward_pass(input_layer, weights)[0].shape"
   ]
  },
  {
   "cell_type": "markdown",
   "id": "6c65cdad",
   "metadata": {},
   "source": [
    "## 4- Implementing the backward pass:"
   ]
  },
  {
   "cell_type": "markdown",
   "id": "613b62f0",
   "metadata": {},
   "source": [
    "This section would modify the *input_hidden_weights* and *hidden_output_weights* in order to make better predictions.\n",
    "\n",
    "The weights modifications would be based on the backpropagation algorithms"
   ]
  },
  {
   "cell_type": "code",
   "execution_count": 38,
   "id": "78149688",
   "metadata": {},
   "outputs": [],
   "source": [
    "def MSE(predicted, desired):\n",
    "    # This function takes as input numpy arrays and not lists\n",
    "    diff = 1/2 * ((predicted - desired)**2).sum()\n",
    "    return diff"
   ]
  },
  {
   "cell_type": "code",
   "execution_count": 39,
   "id": "6e7365aa",
   "metadata": {},
   "outputs": [],
   "source": [
    "def full_backward_pass(weights, image, label, lr = 0.01, lamda = 0.01):\n",
    "    # We only modify the weights between the last and the penultimate layer\n",
    "    # weights is a tuple of matrices : weight_input_hidden & weight_hidden_output\n",
    "\n",
    "    size_hidden_layer = 300\n",
    "    size_output_layer = 10\n",
    "\n",
    "    # one hot encoding the label\n",
    "    desired = np.zeros(size_output_layer)\n",
    "    desired[int(label)] = 1\n",
    "\n",
    "    weight_input_hidden, weight_hidden_output = weights\n",
    "    new_weight_input_hidden, new_weight_hidden_output = weight_input_hidden.copy(), weight_hidden_output.copy()\n",
    "\n",
    "    input_layer = image.flatten() # flattening the image\n",
    "\n",
    "    hidden_representation, output_result = forward_pass(input_layer, (weight_input_hidden, weight_hidden_output)) # forward pass\n",
    "\n",
    "    output_result =  tf.nn.softmax(output_result) # softmax operation\n",
    "\n",
    "    delta_matrix = np.zeros((size_hidden_layer, size_output_layer))\n",
    "\n",
    "    # gradient descent iteration # backward pass for the second layer\n",
    "    for k in range(size_output_layer):\n",
    "        for j in range(size_hidden_layer):\n",
    "            delta = (output_result[k] - desired[k]) * hidden_representation[j] * (1 - output_result[k]) * output_result[k]\n",
    "            new_weight_hidden_output[j][k] = (1-lamda) * new_weight_hidden_output[j][k] - lr*delta\n",
    "\n",
    "            delta_matrix[j][k] = delta\n",
    "\n",
    "    for j in range(size_hidden_layer):\n",
    "        for i in range(size_input_layer):\n",
    "            delta = np.sum(new_weight_hidden_output[j]* (delta_matrix[j]) * input_layer[i] / hidden_representation[j])\n",
    "            new_weight_input_hidden[i][j] = (1-lamda) * new_weight_input_hidden[i][j] - lr*delta\n",
    "\n",
    "\n",
    "    return new_weight_input_hidden, new_weight_hidden_output"
   ]
  },
  {
   "cell_type": "code",
   "execution_count": 63,
   "id": "5461fd66",
   "metadata": {},
   "outputs": [],
   "source": [
    "def full_backward_pass_cross_entropy(weights, image, label, lr=0.01, lamda=0.01):\n",
    "    size_hidden_layer = 300\n",
    "    size_output_layer = 10\n",
    "\n",
    "    # one hot encoding the label\n",
    "    desired = np.zeros(size_output_layer)\n",
    "    desired[int(label)] = 1\n",
    "\n",
    "    weight_input_hidden, weight_hidden_output = weights\n",
    "    new_weight_input_hidden, new_weight_hidden_output = weight_input_hidden.copy(), weight_hidden_output.copy()\n",
    "\n",
    "    input_layer = image.flatten()  # flattening the image\n",
    "\n",
    "    hidden_representation, logits = forward_pass(input_layer, (weight_input_hidden, weight_hidden_output))  # forward pass\n",
    "    output_result = tf.nn.softmax(logits)  # softmax operation\n",
    "\n",
    "    # Gradient of cross-entropy loss w.r.t. logits\n",
    "    d_logits = output_result - desired\n",
    "\n",
    "    # Backward pass for the second layer\n",
    "    d_weight_hidden_output = np.outer(hidden_representation, d_logits)\n",
    "    new_weight_hidden_output = (1 - lamda) * weight_hidden_output - lr * d_weight_hidden_output\n",
    "\n",
    "    # Backward pass for the first layer\n",
    "    d_hidden_representation = np.dot(d_logits, weight_hidden_output.T)\n",
    "    d_weight_input_hidden = np.outer(input_layer, d_hidden_representation)\n",
    "    new_weight_input_hidden = (1 - lamda) * weight_input_hidden - lr * d_weight_input_hidden\n",
    "\n",
    "    return new_weight_input_hidden, new_weight_hidden_output"
   ]
  },
  {
   "cell_type": "code",
   "execution_count": 245,
   "id": "9b2992cc",
   "metadata": {},
   "outputs": [],
   "source": [
    "def full_backward_pass_cross_entropy_adam(weights, image, label, t, m_prev_1, m_prev_2, v_prev_1, v_prev_2, lr=0.001, lamda=0.01, beta1=0.9, beta2=0.999, epsilon=1e-8):\n",
    "    size_hidden_layer = 300\n",
    "    size_output_layer = 10\n",
    "\n",
    "    # one hot encoding the label\n",
    "    desired = np.zeros(size_output_layer)\n",
    "    desired[int(label)] = 1\n",
    "\n",
    "    weight_input_hidden, weight_hidden_output = weights\n",
    "\n",
    "    input_layer = image.flatten()  # flattening the image\n",
    "    hidden_representation, logits = forward_pass(input_layer, (weight_input_hidden, weight_hidden_output))  # forward pass\n",
    "    output_result = tf.nn.softmax(logits)  # softmax operation\n",
    "\n",
    "    # Gradient of cross-entropy loss w.r.t. logits\n",
    "    d_logits = output_result - desired\n",
    "\n",
    "    # Backward pass for the second layer\n",
    "    d_weight_hidden_output = np.outer(hidden_representation, d_logits)\n",
    "    # Adam for weight_hidden_output\n",
    "    m_t_2 = beta1 * m_prev_2 + (1 - beta1) * d_weight_hidden_output\n",
    "    v_t_2 = beta2 * v_prev_2 + (1 - beta2) * d_weight_hidden_output**2\n",
    "    m_t_hat_2 = m_t_2 / (1 - beta1**t)\n",
    "    v_t_hat_2 = v_t_2 / (1 - beta2**t)\n",
    "    new_weight_hidden_output = weight_hidden_output - lr * m_t_hat_2 / (np.sqrt(v_t_hat_2) + epsilon)\n",
    "\n",
    "    # Backward pass for the first layer\n",
    "    d_hidden_representation = np.dot(d_logits, weight_hidden_output.T)\n",
    "    d_weight_input_hidden = np.outer(input_layer, d_hidden_representation)\n",
    "    # Adam for weight_input_hidden\n",
    "    m_t_1 = beta1 * m_prev_1 + (1 - beta1) * d_weight_input_hidden\n",
    "    v_t_1 = beta2 * v_prev_1 + (1 - beta2) * d_weight_input_hidden**2\n",
    "    m_t_hat_1 = m_t_1 / (1 - beta1**t)\n",
    "    v_t_hat_1 = v_t_1 / (1 - beta2**t)\n",
    "    new_weight_input_hidden = weight_input_hidden - lr * m_t_hat_1 / (np.sqrt(v_t_hat_1) + epsilon)\n",
    "\n",
    "    return new_weight_input_hidden, new_weight_hidden_output, m_t_1, m_t_2, v_t_1, v_t_2\n",
    "\n",
    "# Note: This function now also returns the updated moments m and v for both layers, which should be passed in the next call for updates.\n"
   ]
  },
  {
   "cell_type": "code",
   "execution_count": 40,
   "id": "16af90cc",
   "metadata": {},
   "outputs": [],
   "source": [
    "# testing the backward pass \n",
    "\n",
    "# preparing the args\n",
    "random_idx += 1 \n",
    "\n",
    "image = x_train[random_idx]; input_layer = image.flatten()\n",
    "label = y_train[random_idx]\n",
    "\n",
    "# one hot encoding\n",
    "desired = np.zeros(size_output_layer)\n",
    "desired[int(label)] = 1"
   ]
  },
  {
   "cell_type": "code",
   "execution_count": 41,
   "id": "2a603f18",
   "metadata": {},
   "outputs": [
    {
     "data": {
      "image/png": "[encoded data removed]",
      "text/plain": [
       "<Figure size 640x480 with 1 Axes>"
      ]
     },
     "metadata": {},
     "output_type": "display_data"
    }
   ],
   "source": [
    "visualize_image(image, label)"
   ]
  },
  {
   "cell_type": "code",
   "execution_count": 42,
   "id": "136f29b4",
   "metadata": {},
   "outputs": [],
   "source": [
    "# skip if you don't want to perform the backward pass\n",
    "new_weight_input_hidden, new_weight_hidden_output = full_backward_pass(weights, image, label)"
   ]
  },
  {
   "cell_type": "code",
   "execution_count": 43,
   "id": "c0ab06bd",
   "metadata": {},
   "outputs": [
    {
     "data": {
      "text/plain": [
       "9.332933829895338e-36"
      ]
     },
     "execution_count": 43,
     "metadata": {},
     "output_type": "execute_result"
    }
   ],
   "source": [
    "_, new_output = forward_pass(input_layer, (new_weight_input_hidden, new_weight_hidden_output))\n",
    "norm_new_output = np.array(tf.nn.softmax(new_output)) # transforming the logits to probs\n",
    "MSE(norm_new_output, desired)"
   ]
  },
  {
   "cell_type": "code",
   "execution_count": 44,
   "id": "17557509",
   "metadata": {},
   "outputs": [
    {
     "data": {
      "text/plain": [
       "0.6271766413988622"
      ]
     },
     "execution_count": 44,
     "metadata": {},
     "output_type": "execute_result"
    }
   ],
   "source": [
    "_, old_output = forward_pass(input_layer, (weight_input_hidden, weight_hidden_output))\n",
    "norm_old_output = np.array(tf.nn.softmax(old_output))\n",
    "MSE(norm_old_output, desired)"
   ]
  },
  {
   "cell_type": "code",
   "execution_count": 45,
   "id": "cd8066d4",
   "metadata": {},
   "outputs": [
    {
     "data": {
      "text/plain": [
       "array([ 50.75311655,  -7.00584456,  -0.26820762,   2.53883433,\n",
       "        10.76993247,   4.00517385,   0.24231647, -66.93065049,\n",
       "        -5.29152236,   1.54132154])"
      ]
     },
     "execution_count": 45,
     "metadata": {},
     "output_type": "execute_result"
    }
   ],
   "source": [
    "new_output"
   ]
  },
  {
   "cell_type": "markdown",
   "id": "3f8ed5ae",
   "metadata": {},
   "source": [
    "## 5 - Training and Validation loop:"
   ]
  },
  {
   "cell_type": "code",
   "execution_count": 64,
   "id": "51d41464",
   "metadata": {},
   "outputs": [],
   "source": [
    "from tqdm import tqdm\n",
    "\n",
    "def train(weights, train_data, val_data=None):\n",
    "    weight_input_hidden, weight_hidden_output = weights\n",
    "    images, labels = train_data\n",
    "    \n",
    "    # List to store weights periodically\n",
    "    saved_weights = []\n",
    "\n",
    "    for idx, (image, label) in tqdm(enumerate(zip(images, labels))):\n",
    "        new_weight_input_hidden, new_weight_hidden_output = full_backward_pass_cross_entropy(weights, image, label)\n",
    "        weights = new_weight_input_hidden, new_weight_hidden_output\n",
    "        \n",
    "        # Save weights every N iterations (e.g., every 10 images)\n",
    "        if idx % 10 == 0:\n",
    "            saved_weights.append(new_weight_input_hidden.copy())  \n",
    "        \n",
    "        if val_data and (idx % 3 == 0) and (idx != 0):\n",
    "            metric_value = validate(weights, val_data)\n",
    "            print(f\"Metric value: {idx}th image (number: {label}): {metric_value}\")\n",
    "\n",
    "    return weights, saved_weights\n"
   ]
  },
  {
   "cell_type": "code",
   "execution_count": 246,
   "id": "20a3e6cc",
   "metadata": {},
   "outputs": [],
   "source": [
    "def train_adam(weights, train_data, val_data=None, lr=0.001, lamda=0.01, beta1=0.9, beta2=0.999, epsilon=1e-8):\n",
    "    weight_input_hidden, weight_hidden_output = weights\n",
    "    images, labels = train_data\n",
    "    \n",
    "    # List to store weights periodically\n",
    "    saved_weights = []\n",
    "\n",
    "    # Initialize moments for Adam optimizer\n",
    "    m_prev_1 = np.zeros_like(weight_input_hidden)\n",
    "    m_prev_2 = np.zeros_like(weight_hidden_output)\n",
    "    v_prev_1 = np.zeros_like(weight_input_hidden)\n",
    "    v_prev_2 = np.zeros_like(weight_hidden_output)\n",
    "    \n",
    "    for idx, (image, label) in tqdm(enumerate(zip(images, labels))):\n",
    "        new_weight_input_hidden, new_weight_hidden_output, m_prev_1, m_prev_2, v_prev_1, v_prev_2 = full_backward_pass_cross_entropy_adam(\n",
    "            weights, image, label, idx+1, m_prev_1, m_prev_2, v_prev_1, v_prev_2, lr, lamda, beta1, beta2, epsilon\n",
    "        )\n",
    "        weights = new_weight_input_hidden, new_weight_hidden_output\n",
    "        \n",
    "        # Save weights every N iterations (e.g., every 10 images)\n",
    "        if idx % 10 == 0:\n",
    "            saved_weights.append(new_weight_input_hidden.copy())  \n",
    "        \n",
    "        if val_data and (idx % 10 == 0) and (idx != 0):\n",
    "            metric_value = validate(weights, val_data)\n",
    "            print(f\"Metric value: {idx}th image (number: {label}): {metric_value}\")\n",
    "\n",
    "    return weights, saved_weights"
   ]
  },
  {
   "cell_type": "code",
   "execution_count": 81,
   "id": "d5d8b373",
   "metadata": {},
   "outputs": [],
   "source": [
    "def validate(weights, val_data):\n",
    "    weight_input_hidden, weight_hidden_output = weights\n",
    "    images, labels = val_data\n",
    "    \n",
    "    predicted_labels = []\n",
    "    for image in images:\n",
    "        input_layer = image.flatten()\n",
    "        _, logits = forward_pass(input_layer, weights)\n",
    "        predicted_label = np.argmax(logits)\n",
    "        predicted_labels.append(predicted_label)\n",
    "        \n",
    "    return sum(predicted_labels == labels)/labels.shape[0]"
   ]
  },
  {
   "cell_type": "code",
   "execution_count": 240,
   "id": "f58e81d4",
   "metadata": {},
   "outputs": [],
   "source": [
    "# Preparing data\n",
    "train_size = 1000\n",
    "val_size = 1000\n",
    "\n",
    "train_data = x_train[1000 :1000 +train_size], y_train[1000: 1000 + train_size]\n",
    "val_data = x_test[:val_size], y_test[:val_size]\n",
    "# weights_init_xavier = init_weights_xavier()\n",
    "weights_init_he = init_weights_he()\n",
    "# weights_init = init_weights()\n",
    "# weights = weights_init_he"
   ]
  },
  {
   "cell_type": "code",
   "execution_count": 247,
   "id": "e9100f04",
   "metadata": {},
   "outputs": [],
   "source": [
    "weights = weights_init_he"
   ]
  },
  {
   "cell_type": "code",
   "execution_count": 248,
   "id": "9595fe5f",
   "metadata": {},
   "outputs": [
    {
     "name": "stderr",
     "output_type": "stream",
     "text": [
      "15it [00:00, 24.74it/s]"
     ]
    },
    {
     "name": "stdout",
     "output_type": "stream",
     "text": [
      "Metric value: 10th image (number: 5): 0.222\n"
     ]
    },
    {
     "name": "stderr",
     "output_type": "stream",
     "text": [
      "25it [00:01, 18.57it/s]"
     ]
    },
    {
     "name": "stdout",
     "output_type": "stream",
     "text": [
      "Metric value: 20th image (number: 8): 0.371\n"
     ]
    },
    {
     "name": "stderr",
     "output_type": "stream",
     "text": [
      "40it [00:01, 23.87it/s]"
     ]
    },
    {
     "name": "stdout",
     "output_type": "stream",
     "text": [
      "Metric value: 30th image (number: 0): 0.304\n"
     ]
    },
    {
     "name": "stderr",
     "output_type": "stream",
     "text": [
      "47it [00:02, 19.48it/s]"
     ]
    },
    {
     "name": "stdout",
     "output_type": "stream",
     "text": [
      "Metric value: 40th image (number: 8): 0.379\n"
     ]
    },
    {
     "name": "stderr",
     "output_type": "stream",
     "text": [
      "56it [00:02, 20.56it/s]"
     ]
    },
    {
     "name": "stdout",
     "output_type": "stream",
     "text": [
      "Metric value: 50th image (number: 3): 0.513\n"
     ]
    },
    {
     "name": "stderr",
     "output_type": "stream",
     "text": [
      "70it [00:03, 23.46it/s]"
     ]
    },
    {
     "name": "stdout",
     "output_type": "stream",
     "text": [
      "Metric value: 60th image (number: 2): 0.507\n"
     ]
    },
    {
     "name": "stderr",
     "output_type": "stream",
     "text": [
      "79it [00:03, 21.74it/s]"
     ]
    },
    {
     "name": "stdout",
     "output_type": "stream",
     "text": [
      "Metric value: 70th image (number: 5): 0.49\n"
     ]
    },
    {
     "name": "stderr",
     "output_type": "stream",
     "text": [
      "88it [00:04, 20.96it/s]"
     ]
    },
    {
     "name": "stdout",
     "output_type": "stream",
     "text": [
      "Metric value: 80th image (number: 8): 0.456\n"
     ]
    },
    {
     "name": "stderr",
     "output_type": "stream",
     "text": [
      "97it [00:04, 21.41it/s]"
     ]
    },
    {
     "name": "stdout",
     "output_type": "stream",
     "text": [
      "Metric value: 90th image (number: 5): 0.577\n"
     ]
    },
    {
     "name": "stderr",
     "output_type": "stream",
     "text": [
      "107it [00:05, 22.70it/s]"
     ]
    },
    {
     "name": "stdout",
     "output_type": "stream",
     "text": [
      "Metric value: 100th image (number: 1): 0.62\n"
     ]
    },
    {
     "name": "stderr",
     "output_type": "stream",
     "text": [
      "117it [00:05, 22.91it/s]"
     ]
    },
    {
     "name": "stdout",
     "output_type": "stream",
     "text": [
      "Metric value: 110th image (number: 7): 0.678\n"
     ]
    },
    {
     "name": "stderr",
     "output_type": "stream",
     "text": [
      "125it [00:06, 15.84it/s]"
     ]
    },
    {
     "name": "stdout",
     "output_type": "stream",
     "text": [
      "Metric value: 120th image (number: 2): 0.687\n"
     ]
    },
    {
     "name": "stderr",
     "output_type": "stream",
     "text": [
      "138it [00:07, 21.45it/s]"
     ]
    },
    {
     "name": "stdout",
     "output_type": "stream",
     "text": [
      "Metric value: 130th image (number: 8): 0.678\n"
     ]
    },
    {
     "name": "stderr",
     "output_type": "stream",
     "text": [
      "147it [00:07, 21.50it/s]"
     ]
    },
    {
     "name": "stdout",
     "output_type": "stream",
     "text": [
      "Metric value: 140th image (number: 8): 0.567\n"
     ]
    },
    {
     "name": "stderr",
     "output_type": "stream",
     "text": [
      "156it [00:08, 21.16it/s]"
     ]
    },
    {
     "name": "stdout",
     "output_type": "stream",
     "text": [
      "Metric value: 150th image (number: 2): 0.643\n"
     ]
    },
    {
     "name": "stderr",
     "output_type": "stream",
     "text": [
      "165it [00:08, 20.08it/s]"
     ]
    },
    {
     "name": "stdout",
     "output_type": "stream",
     "text": [
      "Metric value: 160th image (number: 9): 0.642\n"
     ]
    },
    {
     "name": "stderr",
     "output_type": "stream",
     "text": [
      "176it [00:09, 22.19it/s]"
     ]
    },
    {
     "name": "stdout",
     "output_type": "stream",
     "text": [
      "Metric value: 170th image (number: 9): 0.587\n"
     ]
    },
    {
     "name": "stderr",
     "output_type": "stream",
     "text": [
      "185it [00:09, 20.28it/s]"
     ]
    },
    {
     "name": "stdout",
     "output_type": "stream",
     "text": [
      "Metric value: 180th image (number: 3): 0.637\n"
     ]
    },
    {
     "name": "stderr",
     "output_type": "stream",
     "text": [
      "199it [00:10, 22.25it/s]"
     ]
    },
    {
     "name": "stdout",
     "output_type": "stream",
     "text": [
      "Metric value: 190th image (number: 6): 0.689\n"
     ]
    },
    {
     "name": "stderr",
     "output_type": "stream",
     "text": [
      "207it [00:10, 19.78it/s]"
     ]
    },
    {
     "name": "stdout",
     "output_type": "stream",
     "text": [
      "Metric value: 200th image (number: 4): 0.666\n"
     ]
    },
    {
     "name": "stderr",
     "output_type": "stream",
     "text": [
      "220it [00:11, 21.41it/s]"
     ]
    },
    {
     "name": "stdout",
     "output_type": "stream",
     "text": [
      "Metric value: 210th image (number: 2): 0.645\n"
     ]
    },
    {
     "name": "stderr",
     "output_type": "stream",
     "text": [
      "229it [00:11, 19.94it/s]"
     ]
    },
    {
     "name": "stdout",
     "output_type": "stream",
     "text": [
      "Metric value: 220th image (number: 1): 0.551\n"
     ]
    },
    {
     "name": "stderr",
     "output_type": "stream",
     "text": [
      "238it [00:12, 20.70it/s]"
     ]
    },
    {
     "name": "stdout",
     "output_type": "stream",
     "text": [
      "Metric value: 230th image (number: 1): 0.629\n"
     ]
    },
    {
     "name": "stderr",
     "output_type": "stream",
     "text": [
      "247it [00:12, 21.45it/s]"
     ]
    },
    {
     "name": "stdout",
     "output_type": "stream",
     "text": [
      "Metric value: 240th image (number: 1): 0.626\n"
     ]
    },
    {
     "name": "stderr",
     "output_type": "stream",
     "text": [
      "256it [00:13, 21.88it/s]"
     ]
    },
    {
     "name": "stdout",
     "output_type": "stream",
     "text": [
      "Metric value: 250th image (number: 5): 0.618\n"
     ]
    },
    {
     "name": "stderr",
     "output_type": "stream",
     "text": [
      "267it [00:13, 23.49it/s]"
     ]
    },
    {
     "name": "stdout",
     "output_type": "stream",
     "text": [
      "Metric value: 260th image (number: 7): 0.667\n"
     ]
    },
    {
     "name": "stderr",
     "output_type": "stream",
     "text": [
      "274it [00:14, 16.86it/s]"
     ]
    },
    {
     "name": "stdout",
     "output_type": "stream",
     "text": [
      "Metric value: 270th image (number: 8): 0.629\n"
     ]
    },
    {
     "name": "stderr",
     "output_type": "stream",
     "text": [
      "290it [00:15, 22.92it/s]"
     ]
    },
    {
     "name": "stdout",
     "output_type": "stream",
     "text": [
      "Metric value: 280th image (number: 3): 0.678\n"
     ]
    },
    {
     "name": "stderr",
     "output_type": "stream",
     "text": [
      "299it [00:15, 22.84it/s]"
     ]
    },
    {
     "name": "stdout",
     "output_type": "stream",
     "text": [
      "Metric value: 290th image (number: 0): 0.692\n"
     ]
    },
    {
     "name": "stderr",
     "output_type": "stream",
     "text": [
      "309it [00:16, 24.07it/s]"
     ]
    },
    {
     "name": "stdout",
     "output_type": "stream",
     "text": [
      "Metric value: 300th image (number: 8): 0.678\n"
     ]
    },
    {
     "name": "stderr",
     "output_type": "stream",
     "text": [
      "318it [00:16, 23.60it/s]"
     ]
    },
    {
     "name": "stdout",
     "output_type": "stream",
     "text": [
      "Metric value: 310th image (number: 2): 0.707\n"
     ]
    },
    {
     "name": "stderr",
     "output_type": "stream",
     "text": [
      "327it [00:17, 22.41it/s]"
     ]
    },
    {
     "name": "stdout",
     "output_type": "stream",
     "text": [
      "Metric value: 320th image (number: 1): 0.765\n"
     ]
    },
    {
     "name": "stderr",
     "output_type": "stream",
     "text": [
      "334it [00:17, 19.39it/s]"
     ]
    },
    {
     "name": "stdout",
     "output_type": "stream",
     "text": [
      "Metric value: 330th image (number: 7): 0.726\n"
     ]
    },
    {
     "name": "stderr",
     "output_type": "stream",
     "text": [
      "350it [00:18, 27.35it/s]"
     ]
    },
    {
     "name": "stdout",
     "output_type": "stream",
     "text": [
      "Metric value: 340th image (number: 3): 0.63\n"
     ]
    },
    {
     "name": "stderr",
     "output_type": "stream",
     "text": [
      "359it [00:18, 25.16it/s]"
     ]
    },
    {
     "name": "stdout",
     "output_type": "stream",
     "text": [
      "Metric value: 350th image (number: 3): 0.682\n"
     ]
    },
    {
     "name": "stderr",
     "output_type": "stream",
     "text": [
      "368it [00:18, 24.06it/s]"
     ]
    },
    {
     "name": "stdout",
     "output_type": "stream",
     "text": [
      "Metric value: 360th image (number: 7): 0.69\n"
     ]
    },
    {
     "name": "stderr",
     "output_type": "stream",
     "text": [
      "377it [00:19, 19.52it/s]"
     ]
    },
    {
     "name": "stdout",
     "output_type": "stream",
     "text": [
      "Metric value: 370th image (number: 8): 0.677\n"
     ]
    },
    {
     "name": "stderr",
     "output_type": "stream",
     "text": [
      "386it [00:19, 20.74it/s]"
     ]
    },
    {
     "name": "stdout",
     "output_type": "stream",
     "text": [
      "Metric value: 380th image (number: 2): 0.653\n"
     ]
    },
    {
     "name": "stderr",
     "output_type": "stream",
     "text": [
      "397it [00:20, 22.63it/s]"
     ]
    },
    {
     "name": "stdout",
     "output_type": "stream",
     "text": [
      "Metric value: 390th image (number: 7): 0.74\n"
     ]
    },
    {
     "name": "stderr",
     "output_type": "stream",
     "text": [
      "406it [00:20, 23.10it/s]"
     ]
    },
    {
     "name": "stdout",
     "output_type": "stream",
     "text": [
      "Metric value: 400th image (number: 4): 0.778\n"
     ]
    },
    {
     "name": "stderr",
     "output_type": "stream",
     "text": [
      "416it [00:21, 24.00it/s]"
     ]
    },
    {
     "name": "stdout",
     "output_type": "stream",
     "text": [
      "Metric value: 410th image (number: 7): 0.784\n"
     ]
    },
    {
     "name": "stderr",
     "output_type": "stream",
     "text": [
      "427it [00:21, 25.23it/s]"
     ]
    },
    {
     "name": "stdout",
     "output_type": "stream",
     "text": [
      "Metric value: 420th image (number: 1): 0.783\n"
     ]
    },
    {
     "name": "stderr",
     "output_type": "stream",
     "text": [
      "437it [00:22, 25.42it/s]"
     ]
    },
    {
     "name": "stdout",
     "output_type": "stream",
     "text": [
      "Metric value: 430th image (number: 4): 0.79\n"
     ]
    },
    {
     "name": "stderr",
     "output_type": "stream",
     "text": [
      "446it [00:22, 24.38it/s]"
     ]
    },
    {
     "name": "stdout",
     "output_type": "stream",
     "text": [
      "Metric value: 440th image (number: 3): 0.784\n"
     ]
    },
    {
     "name": "stderr",
     "output_type": "stream",
     "text": [
      "454it [00:23, 17.99it/s]"
     ]
    },
    {
     "name": "stdout",
     "output_type": "stream",
     "text": [
      "Metric value: 450th image (number: 2): 0.781\n"
     ]
    },
    {
     "name": "stderr",
     "output_type": "stream",
     "text": [
      "468it [00:23, 22.55it/s]"
     ]
    },
    {
     "name": "stdout",
     "output_type": "stream",
     "text": [
      "Metric value: 460th image (number: 8): 0.739\n"
     ]
    },
    {
     "name": "stderr",
     "output_type": "stream",
     "text": [
      "477it [00:24, 22.77it/s]"
     ]
    },
    {
     "name": "stdout",
     "output_type": "stream",
     "text": [
      "Metric value: 470th image (number: 5): 0.671\n"
     ]
    },
    {
     "name": "stderr",
     "output_type": "stream",
     "text": [
      "486it [00:24, 22.89it/s]"
     ]
    },
    {
     "name": "stdout",
     "output_type": "stream",
     "text": [
      "Metric value: 480th image (number: 5): 0.731\n"
     ]
    },
    {
     "name": "stderr",
     "output_type": "stream",
     "text": [
      "496it [00:25, 21.09it/s]"
     ]
    },
    {
     "name": "stdout",
     "output_type": "stream",
     "text": [
      "Metric value: 490th image (number: 4): 0.727\n"
     ]
    },
    {
     "name": "stderr",
     "output_type": "stream",
     "text": [
      "510it [00:26, 19.94it/s]"
     ]
    },
    {
     "name": "stdout",
     "output_type": "stream",
     "text": [
      "Metric value: 500th image (number: 4): 0.707\n"
     ]
    },
    {
     "name": "stderr",
     "output_type": "stream",
     "text": [
      "518it [00:26, 18.65it/s]"
     ]
    },
    {
     "name": "stdout",
     "output_type": "stream",
     "text": [
      "Metric value: 510th image (number: 5): 0.694\n"
     ]
    },
    {
     "name": "stderr",
     "output_type": "stream",
     "text": [
      "524it [00:27, 12.86it/s]"
     ]
    },
    {
     "name": "stdout",
     "output_type": "stream",
     "text": [
      "Metric value: 520th image (number: 3): 0.701\n"
     ]
    },
    {
     "name": "stderr",
     "output_type": "stream",
     "text": [
      "538it [00:28, 19.22it/s]"
     ]
    },
    {
     "name": "stdout",
     "output_type": "stream",
     "text": [
      "Metric value: 530th image (number: 2): 0.693\n"
     ]
    },
    {
     "name": "stderr",
     "output_type": "stream",
     "text": [
      "545it [00:28, 17.69it/s]"
     ]
    },
    {
     "name": "stdout",
     "output_type": "stream",
     "text": [
      "Metric value: 540th image (number: 6): 0.695\n"
     ]
    },
    {
     "name": "stderr",
     "output_type": "stream",
     "text": [
      "555it [00:29, 19.02it/s]"
     ]
    },
    {
     "name": "stdout",
     "output_type": "stream",
     "text": [
      "Metric value: 550th image (number: 0): 0.72\n"
     ]
    },
    {
     "name": "stderr",
     "output_type": "stream",
     "text": [
      "566it [00:29, 21.33it/s]"
     ]
    },
    {
     "name": "stdout",
     "output_type": "stream",
     "text": [
      "Metric value: 560th image (number: 7): 0.743\n"
     ]
    },
    {
     "name": "stderr",
     "output_type": "stream",
     "text": [
      "576it [00:30, 22.05it/s]"
     ]
    },
    {
     "name": "stdout",
     "output_type": "stream",
     "text": [
      "Metric value: 570th image (number: 7): 0.727\n"
     ]
    },
    {
     "name": "stderr",
     "output_type": "stream",
     "text": [
      "584it [00:30, 20.28it/s]"
     ]
    },
    {
     "name": "stdout",
     "output_type": "stream",
     "text": [
      "Metric value: 580th image (number: 4): 0.732\n"
     ]
    },
    {
     "name": "stderr",
     "output_type": "stream",
     "text": [
      "598it [00:31, 20.95it/s]"
     ]
    },
    {
     "name": "stdout",
     "output_type": "stream",
     "text": [
      "Metric value: 590th image (number: 9): 0.764\n"
     ]
    },
    {
     "name": "stderr",
     "output_type": "stream",
     "text": [
      "606it [00:31, 17.46it/s]"
     ]
    },
    {
     "name": "stdout",
     "output_type": "stream",
     "text": [
      "Metric value: 600th image (number: 0): 0.767\n"
     ]
    },
    {
     "name": "stderr",
     "output_type": "stream",
     "text": [
      "615it [00:32, 17.91it/s]"
     ]
    },
    {
     "name": "stdout",
     "output_type": "stream",
     "text": [
      "Metric value: 610th image (number: 8): 0.709\n"
     ]
    },
    {
     "name": "stderr",
     "output_type": "stream",
     "text": [
      "630it [00:33, 22.60it/s]"
     ]
    },
    {
     "name": "stdout",
     "output_type": "stream",
     "text": [
      "Metric value: 620th image (number: 0): 0.666\n"
     ]
    },
    {
     "name": "stderr",
     "output_type": "stream",
     "text": [
      "639it [00:33, 21.69it/s]"
     ]
    },
    {
     "name": "stdout",
     "output_type": "stream",
     "text": [
      "Metric value: 630th image (number: 2): 0.655\n"
     ]
    },
    {
     "name": "stderr",
     "output_type": "stream",
     "text": [
      "648it [00:34, 19.88it/s]"
     ]
    },
    {
     "name": "stdout",
     "output_type": "stream",
     "text": [
      "Metric value: 640th image (number: 1): 0.737\n"
     ]
    },
    {
     "name": "stderr",
     "output_type": "stream",
     "text": [
      "657it [00:34, 20.94it/s]"
     ]
    },
    {
     "name": "stdout",
     "output_type": "stream",
     "text": [
      "Metric value: 650th image (number: 7): 0.739\n"
     ]
    },
    {
     "name": "stderr",
     "output_type": "stream",
     "text": [
      "666it [00:35, 20.18it/s]"
     ]
    },
    {
     "name": "stdout",
     "output_type": "stream",
     "text": [
      "Metric value: 660th image (number: 2): 0.72\n"
     ]
    },
    {
     "name": "stderr",
     "output_type": "stream",
     "text": [
      "676it [00:35, 21.69it/s]"
     ]
    },
    {
     "name": "stdout",
     "output_type": "stream",
     "text": [
      "Metric value: 670th image (number: 6): 0.709\n"
     ]
    },
    {
     "name": "stderr",
     "output_type": "stream",
     "text": [
      "686it [00:36, 22.22it/s]"
     ]
    },
    {
     "name": "stdout",
     "output_type": "stream",
     "text": [
      "Metric value: 680th image (number: 8): 0.745\n"
     ]
    },
    {
     "name": "stderr",
     "output_type": "stream",
     "text": [
      "699it [00:36, 19.21it/s]"
     ]
    },
    {
     "name": "stdout",
     "output_type": "stream",
     "text": [
      "Metric value: 690th image (number: 2): 0.759\n"
     ]
    },
    {
     "name": "stderr",
     "output_type": "stream",
     "text": [
      "708it [00:37, 17.00it/s]"
     ]
    },
    {
     "name": "stdout",
     "output_type": "stream",
     "text": [
      "Metric value: 700th image (number: 0): 0.728\n"
     ]
    },
    {
     "name": "stderr",
     "output_type": "stream",
     "text": [
      "717it [00:37, 18.86it/s]"
     ]
    },
    {
     "name": "stdout",
     "output_type": "stream",
     "text": [
      "Metric value: 710th image (number: 9): 0.754\n"
     ]
    },
    {
     "name": "stderr",
     "output_type": "stream",
     "text": [
      "725it [00:38, 17.61it/s]"
     ]
    },
    {
     "name": "stdout",
     "output_type": "stream",
     "text": [
      "Metric value: 720th image (number: 4): 0.751\n"
     ]
    },
    {
     "name": "stderr",
     "output_type": "stream",
     "text": [
      "738it [00:39, 21.65it/s]"
     ]
    },
    {
     "name": "stdout",
     "output_type": "stream",
     "text": [
      "Metric value: 730th image (number: 3): 0.738\n"
     ]
    },
    {
     "name": "stderr",
     "output_type": "stream",
     "text": [
      "747it [00:39, 20.78it/s]"
     ]
    },
    {
     "name": "stdout",
     "output_type": "stream",
     "text": [
      "Metric value: 740th image (number: 8): 0.703\n"
     ]
    },
    {
     "name": "stderr",
     "output_type": "stream",
     "text": [
      "757it [00:40, 21.93it/s]"
     ]
    },
    {
     "name": "stdout",
     "output_type": "stream",
     "text": [
      "Metric value: 750th image (number: 5): 0.726\n"
     ]
    },
    {
     "name": "stderr",
     "output_type": "stream",
     "text": [
      "766it [00:40, 21.19it/s]"
     ]
    },
    {
     "name": "stdout",
     "output_type": "stream",
     "text": [
      "Metric value: 760th image (number: 7): 0.758\n"
     ]
    },
    {
     "name": "stderr",
     "output_type": "stream",
     "text": [
      "776it [00:41, 20.88it/s]"
     ]
    },
    {
     "name": "stdout",
     "output_type": "stream",
     "text": [
      "Metric value: 770th image (number: 2): 0.724\n"
     ]
    },
    {
     "name": "stderr",
     "output_type": "stream",
     "text": [
      "785it [00:41, 20.21it/s]"
     ]
    },
    {
     "name": "stdout",
     "output_type": "stream",
     "text": [
      "Metric value: 780th image (number: 1): 0.732\n"
     ]
    },
    {
     "name": "stderr",
     "output_type": "stream",
     "text": [
      "796it [00:42, 21.28it/s]"
     ]
    },
    {
     "name": "stdout",
     "output_type": "stream",
     "text": [
      "Metric value: 790th image (number: 6): 0.721\n"
     ]
    },
    {
     "name": "stderr",
     "output_type": "stream",
     "text": [
      "810it [00:42, 25.04it/s]"
     ]
    },
    {
     "name": "stdout",
     "output_type": "stream",
     "text": [
      "Metric value: 800th image (number: 4): 0.752\n"
     ]
    },
    {
     "name": "stderr",
     "output_type": "stream",
     "text": [
      "818it [00:43, 20.97it/s]"
     ]
    },
    {
     "name": "stdout",
     "output_type": "stream",
     "text": [
      "Metric value: 810th image (number: 7): 0.742\n"
     ]
    },
    {
     "name": "stderr",
     "output_type": "stream",
     "text": [
      "825it [00:44, 12.05it/s]"
     ]
    },
    {
     "name": "stdout",
     "output_type": "stream",
     "text": [
      "Metric value: 820th image (number: 0): 0.764\n"
     ]
    },
    {
     "name": "stderr",
     "output_type": "stream",
     "text": [
      "837it [00:44, 17.32it/s]"
     ]
    },
    {
     "name": "stdout",
     "output_type": "stream",
     "text": [
      "Metric value: 830th image (number: 8): 0.74\n"
     ]
    },
    {
     "name": "stderr",
     "output_type": "stream",
     "text": [
      "846it [00:45, 16.72it/s]"
     ]
    },
    {
     "name": "stdout",
     "output_type": "stream",
     "text": [
      "Metric value: 840th image (number: 4): 0.663\n"
     ]
    },
    {
     "name": "stderr",
     "output_type": "stream",
     "text": [
      "856it [00:46, 18.74it/s]"
     ]
    },
    {
     "name": "stdout",
     "output_type": "stream",
     "text": [
      "Metric value: 850th image (number: 1): 0.698\n"
     ]
    },
    {
     "name": "stderr",
     "output_type": "stream",
     "text": [
      "864it [00:46, 17.77it/s]"
     ]
    },
    {
     "name": "stdout",
     "output_type": "stream",
     "text": [
      "Metric value: 860th image (number: 3): 0.739\n"
     ]
    },
    {
     "name": "stderr",
     "output_type": "stream",
     "text": [
      "876it [00:47, 18.54it/s]"
     ]
    },
    {
     "name": "stdout",
     "output_type": "stream",
     "text": [
      "Metric value: 870th image (number: 4): 0.701\n"
     ]
    },
    {
     "name": "stderr",
     "output_type": "stream",
     "text": [
      "886it [00:47, 20.75it/s]"
     ]
    },
    {
     "name": "stdout",
     "output_type": "stream",
     "text": [
      "Metric value: 880th image (number: 0): 0.692\n"
     ]
    },
    {
     "name": "stderr",
     "output_type": "stream",
     "text": [
      "896it [00:48, 20.97it/s]"
     ]
    },
    {
     "name": "stdout",
     "output_type": "stream",
     "text": [
      "Metric value: 890th image (number: 9): 0.659\n"
     ]
    },
    {
     "name": "stderr",
     "output_type": "stream",
     "text": [
      "906it [00:48, 20.54it/s]"
     ]
    },
    {
     "name": "stdout",
     "output_type": "stream",
     "text": [
      "Metric value: 900th image (number: 8): 0.688\n"
     ]
    },
    {
     "name": "stderr",
     "output_type": "stream",
     "text": [
      "915it [00:49, 15.16it/s]"
     ]
    },
    {
     "name": "stdout",
     "output_type": "stream",
     "text": [
      "Metric value: 910th image (number: 3): 0.675\n"
     ]
    },
    {
     "name": "stderr",
     "output_type": "stream",
     "text": [
      "927it [00:50, 19.26it/s]"
     ]
    },
    {
     "name": "stdout",
     "output_type": "stream",
     "text": [
      "Metric value: 920th image (number: 4): 0.675\n"
     ]
    },
    {
     "name": "stderr",
     "output_type": "stream",
     "text": [
      "936it [00:50, 19.30it/s]"
     ]
    },
    {
     "name": "stdout",
     "output_type": "stream",
     "text": [
      "Metric value: 930th image (number: 7): 0.692\n"
     ]
    },
    {
     "name": "stderr",
     "output_type": "stream",
     "text": [
      "946it [00:51, 20.62it/s]"
     ]
    },
    {
     "name": "stdout",
     "output_type": "stream",
     "text": [
      "Metric value: 940th image (number: 1): 0.733\n"
     ]
    },
    {
     "name": "stderr",
     "output_type": "stream",
     "text": [
      "956it [00:51, 20.95it/s]"
     ]
    },
    {
     "name": "stdout",
     "output_type": "stream",
     "text": [
      "Metric value: 950th image (number: 7): 0.755\n"
     ]
    },
    {
     "name": "stderr",
     "output_type": "stream",
     "text": [
      "966it [00:52, 21.08it/s]"
     ]
    },
    {
     "name": "stdout",
     "output_type": "stream",
     "text": [
      "Metric value: 960th image (number: 1): 0.763\n"
     ]
    },
    {
     "name": "stderr",
     "output_type": "stream",
     "text": [
      "976it [00:52, 20.69it/s]"
     ]
    },
    {
     "name": "stdout",
     "output_type": "stream",
     "text": [
      "Metric value: 970th image (number: 0): 0.761\n"
     ]
    },
    {
     "name": "stderr",
     "output_type": "stream",
     "text": [
      "986it [00:53, 21.02it/s]"
     ]
    },
    {
     "name": "stdout",
     "output_type": "stream",
     "text": [
      "Metric value: 980th image (number: 3): 0.732\n"
     ]
    },
    {
     "name": "stderr",
     "output_type": "stream",
     "text": [
      "994it [00:53, 17.70it/s]"
     ]
    },
    {
     "name": "stdout",
     "output_type": "stream",
     "text": [
      "Metric value: 990th image (number: 2): 0.736\n"
     ]
    },
    {
     "name": "stderr",
     "output_type": "stream",
     "text": [
      "1000it [00:54, 18.48it/s]\n"
     ]
    }
   ],
   "source": [
    "weights, saved_weights = train_adam(weights, train_data, val_data)"
   ]
  },
  {
   "cell_type": "code",
   "execution_count": 79,
   "id": "0e61bdf9",
   "metadata": {},
   "outputs": [
    {
     "ename": "ValueError",
     "evalue": "too many values to unpack (expected 2)",
     "output_type": "error",
     "traceback": [
      "\u001b[1;31m---------------------------------------------------------------------------\u001b[0m",
      "\u001b[1;31mValueError\u001b[0m                                Traceback (most recent call last)",
      "Cell \u001b[1;32mIn[79], line 3\u001b[0m\n\u001b[0;32m      1\u001b[0m c \u001b[39m=\u001b[39m \u001b[39m0\u001b[39m\n\u001b[0;32m      2\u001b[0m \u001b[39mfor\u001b[39;00m weightt \u001b[39min\u001b[39;00m saved_weights :\n\u001b[1;32m----> 3\u001b[0m     \u001b[39mif\u001b[39;00m validate(weightt, val_data)\u001b[39m>\u001b[39mc :\n\u001b[0;32m      4\u001b[0m         c \u001b[39m=\u001b[39m validate(weightt, val_data)\n\u001b[0;32m      5\u001b[0m \u001b[39mprint\u001b[39m(c)\n",
      "Cell \u001b[1;32mIn[74], line 2\u001b[0m, in \u001b[0;36mvalidate\u001b[1;34m(weights, val_data)\u001b[0m\n\u001b[0;32m      1\u001b[0m \u001b[39mdef\u001b[39;00m \u001b[39mvalidate\u001b[39m(weights, val_data):\n\u001b[1;32m----> 2\u001b[0m     weight_input_hidden, weight_hidden_output \u001b[39m=\u001b[39m weights\n\u001b[0;32m      3\u001b[0m     images, labels \u001b[39m=\u001b[39m val_data\n\u001b[0;32m      5\u001b[0m     predicted_labels \u001b[39m=\u001b[39m []\n",
      "\u001b[1;31mValueError\u001b[0m: too many values to unpack (expected 2)"
     ]
    }
   ],
   "source": [
    "c = 0\n",
    "for weightt in saved_weights :\n",
    "    if validate(weightt, val_data)>c :\n",
    "        c = validate(weightt, val_data)\n",
    "print(c)"
   ]
  },
  {
   "cell_type": "code",
   "execution_count": 88,
   "id": "4f9e2e81",
   "metadata": {},
   "outputs": [],
   "source": [
    "import matplotlib.pyplot as plt\n",
    "import numpy as np\n",
    "\n",
    "def visualize_and_save_weights(saved_weights, image_shape, save_path=\"./\"):\n",
    "    for idx, weight_input_hidden in enumerate(saved_weights):\n",
    "        plt.figure(figsize=(10, 6))\n",
    "        num_filters = weight_input_hidden.shape[1]\n",
    "\n",
    "        for i in range(num_filters):\n",
    "            plt.subplot(num_filters // 10 + 1, 10, i + 1)  # Display 10 filters per row\n",
    "            filter_img = weight_input_hidden[:, i].reshape(image_shape)\n",
    "            plt.imshow(filter_img, cmap='gray')\n",
    "            plt.axis('off')\n",
    "        \n",
    "        # Save the current figure as an image\n",
    "        plt.savefig(f\"{save_path}/weights_{idx}.png\")\n",
    "        plt.close()\n",
    "\n",
    "\n",
    "# Assuming the images are 28x28 (like in MNIST)\n",
    "image_shape = (28, 28)\n",
    "save_path = \"./\"\n",
    "saved_weights_tst = saved_weights[-11:]\n",
    "visualize_and_save_weights(saved_weights_tst, image_shape, save_path=\"./\")\n"
   ]
  },
  {
   "cell_type": "code",
   "execution_count": 52,
   "id": "13bbcdd4",
   "metadata": {},
   "outputs": [
    {
     "ename": "ModuleNotFoundError",
     "evalue": "No module named 'plotly'",
     "output_type": "error",
     "traceback": [
      "\u001b[1;31m---------------------------------------------------------------------------\u001b[0m",
      "\u001b[1;31mModuleNotFoundError\u001b[0m                       Traceback (most recent call last)",
      "Cell \u001b[1;32mIn[52], line 1\u001b[0m\n\u001b[1;32m----> 1\u001b[0m \u001b[39mimport\u001b[39;00m \u001b[39mplotly\u001b[39;00m\u001b[39m.\u001b[39;00m\u001b[39mexpress\u001b[39;00m \u001b[39mas\u001b[39;00m \u001b[39mpx\u001b[39;00m\n\u001b[0;32m      3\u001b[0m fig \u001b[39m=\u001b[39m px\u001b[39m.\u001b[39mhistogram(train_data[\u001b[39m1\u001b[39m], nbins\u001b[39m=\u001b[39m\u001b[39m10\u001b[39m, title\u001b[39m=\u001b[39m\u001b[39m'\u001b[39m\u001b[39mTraining data distribution\u001b[39m\u001b[39m'\u001b[39m)\n\u001b[0;32m      4\u001b[0m fig\u001b[39m.\u001b[39mupdate_xaxes(tickvals\u001b[39m=\u001b[39mnp\u001b[39m.\u001b[39marange(\u001b[39m0\u001b[39m, \u001b[39m10\u001b[39m))\n",
      "\u001b[1;31mModuleNotFoundError\u001b[0m: No module named 'plotly'"
     ]
    }
   ],
   "source": [
    "import plotly.express as px\n",
    "\n",
    "fig = px.histogram(train_data[1], nbins=10, title='Training data distribution')\n",
    "fig.update_xaxes(tickvals=np.arange(0, 10))\n",
    "fig.show()"
   ]
  },
  {
   "cell_type": "markdown",
   "id": "1d6b8f8d",
   "metadata": {},
   "source": [
    "## 6- Inference:"
   ]
  },
  {
   "cell_type": "code",
   "execution_count": 236,
   "id": "ee1fb8ff",
   "metadata": {},
   "outputs": [
    {
     "data": {
      "image/png": "[encoded data removed]",
      "text/plain": [
       "<Figure size 640x480 with 1 Axes>"
      ]
     },
     "metadata": {},
     "output_type": "display_data"
    }
   ],
   "source": [
    "random_idx = np.random.randint(1000)\n",
    "\n",
    "image = x_test[random_idx]\n",
    "label = y_test[random_idx]\n",
    "\n",
    "\n",
    "visualize_image(image, label)\n",
    "input_layer = image.flatten()"
   ]
  },
  {
   "cell_type": "code",
   "execution_count": 238,
   "id": "3de34734",
   "metadata": {},
   "outputs": [
    {
     "data": {
      "text/plain": [
       "7"
      ]
     },
     "execution_count": 238,
     "metadata": {},
     "output_type": "execute_result"
    }
   ],
   "source": [
    "_, new_output = forward_pass(input_layer, weights)\n",
    "norm_new_output = np.array(tf.nn.softmax(new_output)) # transforming the logits to probs\n",
    "np.argmax(norm_new_output)"
   ]
  },
  {
   "cell_type": "code",
   "execution_count": 55,
   "id": "76baf725",
   "metadata": {},
   "outputs": [
    {
     "data": {
      "text/plain": [
       "array([ 0.50433666, -0.00832172, -0.35964987,  1.45268183,  0.36296841,\n",
       "       -0.09697751,  0.24515608,  0.68653464, -0.15607574, -0.07038648])"
      ]
     },
     "execution_count": 55,
     "metadata": {},
     "output_type": "execute_result"
    }
   ],
   "source": [
    "new_output"
   ]
  },
  {
   "cell_type": "code",
   "execution_count": 239,
   "id": "43752579",
   "metadata": {},
   "outputs": [
    {
     "data": {
      "image/png": "[encoded data removed]",
      "text/plain": [
       "<Figure size 640x480 with 1 Axes>"
      ]
     },
     "metadata": {},
     "output_type": "display_data"
    }
   ],
   "source": [
    "import matplotlib.pyplot as plt\n",
    "\n",
    "x_indices = range(10)\n",
    "\n",
    "plt.bar(x_indices, new_output)\n",
    "plt.xlabel('Output neuron')\n",
    "plt.ylabel('Value')\n",
    "plt.title('Last layer viz - Bar Chart')\n",
    "\n",
    "# Customize x-axis tick labels\n",
    "plt.xticks(x_indices, x_indices)\n",
    "\n",
    "plt.show()\n"
   ]
  },
  {
   "cell_type": "code",
   "execution_count": 57,
   "id": "ee95cfc1",
   "metadata": {},
   "outputs": [],
   "source": [
    "import pickle\n",
    "import os\n",
    "\n",
    "root = os.getcwd()\n",
    "\n",
    "with open(os.path.join(root  ,'new_trained_weights.pkl'), 'wb') as file:\n",
    "    pickle.dump(weights, file)"
   ]
  },
  {
   "cell_type": "code",
   "execution_count": 58,
   "id": "54234e3e",
   "metadata": {},
   "outputs": [],
   "source": [
    "with open(os.path.join(root  ,'trained_weights.pkl'), 'rb') as file:\n",
    "    var = pickle.load(file)"
   ]
  },
  {
   "cell_type": "code",
   "execution_count": null,
   "id": "a5ffc867",
   "metadata": {},
   "outputs": [],
   "source": []
  }
 ],
 "metadata": {
  "kernelspec": {
   "display_name": "Python 3 (ipykernel)",
   "language": "python",
   "name": "python3"
  },
  "language_info": {
   "codemirror_mode": {
    "name": "ipython",
    "version": 3
   },
   "file_extension": ".py",
   "mimetype": "text/x-python",
   "name": "python",
   "nbconvert_exporter": "python",
   "pygments_lexer": "ipython3",
   "version": "3.11.3"
  }
 },
 "nbformat": 4,
 "nbformat_minor": 5
}
