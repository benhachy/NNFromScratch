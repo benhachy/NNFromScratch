{
 "cells": [
  {
   "cell_type": "markdown",
   "id": "0e9128f2",
   "metadata": {},
   "source": [
    "### Introduction"
   ]
  },
  {
   "cell_type": "markdown",
   "id": "b43cf990",
   "metadata": {},
   "source": [
    "The goal of this notebook is to build from scratch a neural network for an image classficiation task.\n",
    "\n",
    "This is to have a good grasp of deep learning concepts .."
   ]
  },
  {
   "cell_type": "markdown",
   "id": "8c44e778",
   "metadata": {},
   "source": [
    "## Plan"
   ]
  },
  {
   "cell_type": "markdown",
   "id": "dccca0e2",
   "metadata": {},
   "source": [
    "**1-** Prepare the dataset\n",
    "\n",
    "**2-** Implementing the forward pass\n",
    "\n",
    "**3-** Implementing the backwad pass\n",
    "\n",
    "**4-** Evaluating the performance of the nn\n",
    "\n",
    "**5-** Experiments with the nn parametres and how they affect the performances \n",
    "\n",
    "Some questions that we want to answer are : \n",
    "\n",
    "* Can we find some correlation between the variance in the dataset and the size of the neural network? \n",
    "* Is the bias part of the neurons important in the task?\n",
    "* Does the activation function affects the value to be choosen for the learning rate"
   ]
  },
  {
   "cell_type": "markdown",
   "id": "c0e8dec1",
   "metadata": {},
   "source": [
    "### 1-  Loading the dataset"
   ]
  },
  {
   "cell_type": "code",
   "execution_count": 1,
   "id": "6fe544e9",
   "metadata": {},
   "outputs": [
    {
     "name": "stdout",
     "output_type": "stream",
     "text": [
      "Training data shape: (60000, 28, 28)\n",
      "Training labels shape: (60000,)\n",
      "Test data shape: (10000, 28, 28)\n",
      "Test labels shape: (10000,)\n"
     ]
    }
   ],
   "source": [
    "import tensorflow as tf\n",
    "\n",
    "# Load the MNIST dataset\n",
    "mnist = tf.keras.datasets.mnist\n",
    "(x_train, y_train), (x_test, y_test) = mnist.load_data()\n",
    "\n",
    "# Display the shape of the loaded data\n",
    "print(\"Training data shape:\", x_train.shape)  # (60000, 28, 28)\n",
    "print(\"Training labels shape:\", y_train.shape)  # (60000,)\n",
    "print(\"Test data shape:\", x_test.shape)  # (10000, 28, 28)\n",
    "print(\"Test labels shape:\", y_test.shape)  # (10000,)"
   ]
  },
  {
   "cell_type": "markdown",
   "id": "41459d3c",
   "metadata": {},
   "source": [
    "###  2-  Visualizing the dataset"
   ]
  },
  {
   "cell_type": "code",
   "execution_count": 72,
   "id": "9642a8f9",
   "metadata": {},
   "outputs": [
    {
     "data": {
      "image/png": "[encoded data removed]",
      "text/plain": [
       "<Figure size 640x480 with 1 Axes>"
      ]
     },
     "metadata": {},
     "output_type": "display_data"
    }
   ],
   "source": [
    "import matplotlib.pyplot as plt\n",
    "import numpy as np\n",
    "\n",
    "random_idx = np.random.randint(1000)\n",
    "\n",
    "image = x_train[random_idx]\n",
    "label = y_train[random_idx]\n",
    "def visualizeImage(image,label):\n",
    "    plt.imshow(image, cmap='gray')  # Display the image\n",
    "    plt.axis('off')  # Turn off the axes\n",
    "    plt.title(label)\n",
    "    plt.show()  # Show the image\n",
    "visualizeImage(image,label)\n"
   ]
  },
  {
   "cell_type": "markdown",
   "id": "026407de",
   "metadata": {},
   "source": [
    "==> Each image is a **28*28** pixels, which gives a list of **784** elements"
   ]
  },
  {
   "cell_type": "markdown",
   "id": "1adace72",
   "metadata": {},
   "source": [
    "### 3- Implementing the forward pass"
   ]
  },
  {
   "cell_type": "markdown",
   "id": "b4bd6c35",
   "metadata": {},
   "source": [
    "Our neural network, would be such that there is only one hidden layer with **300** neurons, and the output layer with **10**neurons\n",
    "\n",
    "For now, the activations functions would be all linear, and in to generate the output we take the argmax.\n",
    "\n",
    "Our loss function will be the Mean Squared Error, aka **MSE**"
   ]
  },
  {
   "cell_type": "code",
   "execution_count": 80,
   "id": "27c41a1d",
   "metadata": {},
   "outputs": [],
   "source": [
    "input_layer = image.flatten()"
   ]
  },
  {
   "cell_type": "code",
   "execution_count": 4,
   "id": "b2a15531",
   "metadata": {},
   "outputs": [
    {
     "name": "stdout",
     "output_type": "stream",
     "text": [
      "784\n"
     ]
    }
   ],
   "source": [
    "## Initializing the weights linking the input layer with the hidden layer\n",
    "\n",
    "size_input_layer = len(input_layer) #784\n",
    "size_hidden_layer = 300\n",
    "size_output_layer = 10\n",
    "print(len(input_layer))\n",
    "\n",
    "weight_input_hidden = np.random.random((size_hidden_layer, size_input_layer))\n",
    "weight_hidden_output = np.random.random((size_hidden_layer, size_output_layer))"
   ]
  },
  {
   "cell_type": "code",
   "execution_count": 5,
   "id": "96a69d14",
   "metadata": {},
   "outputs": [
    {
     "data": {
      "text/plain": [
       "(300,)"
      ]
     },
     "execution_count": 5,
     "metadata": {},
     "output_type": "execute_result"
    }
   ],
   "source": [
    "# Hidden layer result\n",
    "hidden_representation = np.dot(weight_input_hidden , input_layer)\n",
    "hidden_representation.shape"
   ]
  },
  {
   "cell_type": "code",
   "execution_count": 6,
   "id": "1e7548a5",
   "metadata": {},
   "outputs": [],
   "source": [
    "mi = hidden_representation.min()\n",
    "ma = hidden_representation.max()\n",
    "\n",
    "# min max normalization\n",
    "norm_hidden_representation = (hidden_representation - mi)/(ma-mi)"
   ]
  },
  {
   "cell_type": "code",
   "execution_count": 7,
   "id": "1b7c3057",
   "metadata": {},
   "outputs": [
    {
     "data": {
      "text/plain": [
       "<matplotlib.image.AxesImage at 0x1ba9cce1e10>"
      ]
     },
     "execution_count": 7,
     "metadata": {},
     "output_type": "execute_result"
    },
    {
     "data": {
      "image/png": "[encoded data removed]",
      "text/plain": [
       "<Figure size 640x480 with 1 Axes>"
      ]
     },
     "metadata": {},
     "output_type": "display_data"
    }
   ],
   "source": [
    "plt.imshow(norm_hidden_representation.reshape(15,20), cmap='gray')  # Display the image"
   ]
  },
  {
   "cell_type": "code",
   "execution_count": 8,
   "id": "3c98c86b",
   "metadata": {},
   "outputs": [
    {
     "data": {
      "text/plain": [
       "(10,)"
      ]
     },
     "execution_count": 8,
     "metadata": {},
     "output_type": "execute_result"
    }
   ],
   "source": [
    "## hidden output result \n",
    "\n",
    "ouput_result = np.dot(norm_hidden_representation, weight_hidden_output)\n",
    "ouput_result.shape"
   ]
  },
  {
   "cell_type": "code",
   "execution_count": 9,
   "id": "f29aa6c5",
   "metadata": {},
   "outputs": [
    {
     "data": {
      "text/plain": [
       "6"
      ]
     },
     "execution_count": 9,
     "metadata": {},
     "output_type": "execute_result"
    }
   ],
   "source": [
    "# Result of the forward pass\n",
    "ouput_result.argmax()"
   ]
  },
  {
   "cell_type": "code",
   "execution_count": 10,
   "id": "16af9de2",
   "metadata": {},
   "outputs": [],
   "source": [
    "# Defining the function that takes as an input the input layer(vector) and parameters and returns the predicted written number\n",
    "def predictNumber(input_layer, weight_input_hidden, weight_hidden_output):\n",
    "    size_input_layer = len(input_layer) #784\n",
    "    size_hidden_layer = 300\n",
    "    size_output_layer = 10\n",
    "\n",
    "    hidden_representation = np.dot(weight_input_hidden , input_layer)\n",
    "    mi = hidden_representation.min()\n",
    "    ma = hidden_representation.max()\n",
    "\n",
    "    # min max normalization\n",
    "    norm_hidden_representation = (hidden_representation - mi)/(ma-mi)\n",
    "\n",
    "    ouput_result = np.dot(norm_hidden_representation, weight_hidden_output)\n",
    "    # Result of the forward pass\n",
    "    result = ouput_result.argmax()\n",
    "    return result\n"
   ]
  },
  {
   "cell_type": "code",
   "execution_count": 12,
   "id": "38dc3504",
   "metadata": {},
   "outputs": [],
   "source": [
    "# Defining the function that takes as an input the input layer(vector) and parameters and returns the hidden representation and the output result\n",
    "def forward_pass(input_layer, weight_input_hidden, weight_hidden_output):\n",
    "    size_input_layer = len(input_layer) #784\n",
    "    size_hidden_layer = 300\n",
    "    size_output_layer = 10\n",
    "\n",
    "    hidden_representation = np.dot(weight_input_hidden , input_layer)\n",
    "    mi = hidden_representation.min()\n",
    "    ma = hidden_representation.max()\n",
    "\n",
    "    # min max normalization\n",
    "    norm_hidden_representation = (hidden_representation - mi)/(ma-mi)\n",
    "\n",
    "    output_result = np.dot(norm_hidden_representation, weight_hidden_output)\n",
    "    \n",
    "    return hidden_representation, output_result"
   ]
  },
  {
   "cell_type": "code",
   "execution_count": 66,
   "id": "1e342005",
   "metadata": {},
   "outputs": [
    {
     "data": {
      "image/png": "[encoded data removed]",
      "text/plain": [
       "<Figure size 640x480 with 1 Axes>"
      ]
     },
     "metadata": {},
     "output_type": "display_data"
    },
    {
     "data": {
      "text/plain": [
       "6"
      ]
     },
     "execution_count": 66,
     "metadata": {},
     "output_type": "execute_result"
    }
   ],
   "source": [
    "#Test\n",
    "visualizeImage(image, label)\n",
    "predictNumber(input_layer, weight_input_hidden, weight_hidden_output)"
   ]
  },
  {
   "cell_type": "markdown",
   "id": "6c65cdad",
   "metadata": {},
   "source": [
    "### 4- Implementing the backward pass:"
   ]
  },
  {
   "cell_type": "markdown",
   "id": "613b62f0",
   "metadata": {},
   "source": [
    "This section would modify the *input_hidden_weights* and *hidden_output_weights* in order to make better predictions.\n",
    "\n",
    "The weights modifications would be based on the backpropagation algorithms"
   ]
  },
  {
   "cell_type": "code",
   "execution_count": 38,
   "id": "78149688",
   "metadata": {},
   "outputs": [],
   "source": [
    "def MSE(predicted, desired):\n",
    "    # This function takes as input numpy arrays and not lists\n",
    "    diff = 1/2 * ((predicted - desired)**2).sum()\n",
    "    return diff"
   ]
  },
  {
   "cell_type": "code",
   "execution_count": 39,
   "id": "38bf9191",
   "metadata": {},
   "outputs": [],
   "source": [
    "def backward_pass(weights, image, label, lr = 0.01):\n",
    "    # We only modify the weights between the last and the penultimate layer\n",
    "    # weights is a tuple of matrices : weight_input_hidden & weight_hidden_output\n",
    "    \n",
    "    size_hidden_layer = 300\n",
    "    size_output_layer = 10\n",
    "    \n",
    "    # one hot encoding the label\n",
    "    desired = np.zeros(size_output_layer)\n",
    "    desired[int(label)] = 1\n",
    "    \n",
    "    weight_input_hidden, weight_hidden_output = weights\n",
    "    new_weight_input_hidden, new_weight_hidden_output = weight_input_hidden.copy(), weight_hidden_output.copy()\n",
    "    \n",
    "    input_layer = image.flatten() # flattening the image\n",
    "    \n",
    "    hidden_representation, output_result = forward_pass(input_layer, weight_input_hidden, weight_hidden_output) # forward pass\n",
    "    \n",
    "    output_result =  tf.nn.softmax(output_result) # softmax operation\n",
    "    \n",
    "    # gradient descent iteration # backward pass for the second layer\n",
    "    for j in range(size_output_layer):\n",
    "        for i in range(size_hidden_layer):\n",
    "            delta = (output_result[j] - desired[j]) * hidden_representation[i] * (1 - output_result[j]) * output_result[j]\n",
    "            new_weight_hidden_output[i][j] = new_weight_hidden_output[i][j] - lr*delta \n",
    "      \n",
    "    return new_weight_input_hidden, new_weight_hidden_output"
   ]
  },
  {
   "cell_type": "code",
   "execution_count": null,
   "id": "6e7365aa",
   "metadata": {},
   "outputs": [],
   "source": [
    "def full_backward_pass(weights, image, label, lr = 0.01):\n",
    "    # We only modify the weights between the last and the penultimate layer\n",
    "    # weights is a tuple of matrices : weight_input_hidden & weight_hidden_output\n",
    "    \n",
    "    size_hidden_layer = 300\n",
    "    size_output_layer = 10\n",
    "    \n",
    "    # one hot encoding the label\n",
    "    desired = np.zeros(size_output_layer)\n",
    "    desired[int(label)] = 1\n",
    "    \n",
    "    weight_input_hidden, weight_hidden_output = weights\n",
    "    new_weight_input_hidden, new_weight_hidden_output = weight_input_hidden.copy(), weight_hidden_output.copy()\n",
    "    \n",
    "    input_layer = image.flatten() # flattening the image\n",
    "    \n",
    "    hidden_representation, output_result = forward_pass(input_layer, weight_input_hidden, weight_hidden_output) # forward pass\n",
    "    \n",
    "    output_result =  tf.nn.softmax(output_result) # softmax operation\n",
    "    \n",
    "    delta_matrix = np.zeros((size_hidden_layer, size_output_layer))\n",
    "\n",
    "    # gradient descent iteration # backward pass for the second layer\n",
    "    for k in range(size_output_layer):\n",
    "        for j in range(size_hidden_layer):\n",
    "            delta = (output_result[k] - desired[k]) * hidden_representation[j] * (1 - output_result[k]) * output_result[k]\n",
    "            new_weight_hidden_output[j][k] = new_weight_hidden_output[j][k] - lr*delta \n",
    "\n",
    "            delta_matrix[j][k] = delta\n",
    "    \n",
    "    for j in range(size_hidden_layer):\n",
    "        for i in range(size_input_layer):\n",
    "            delta = np.cross(new_weight_hidden_output[j], delta_matrix[j]) * input_layer[i] / hidden_representation[j]\n",
    "            new_weight_input_hidden[i][j] = new_weight_hidden_output[i][j] - lr*delta \n",
    "\n",
    "\n",
    "    return new_weight_input_hidden, new_weight_hidden_output"
   ]
  },
  {
   "cell_type": "code",
   "execution_count": 40,
   "id": "99ba0cc0",
   "metadata": {},
   "outputs": [],
   "source": [
    "# backward pass for the first layer\n",
    "for j in  range(size_hidden_layer):  \n",
    "    for i in range(size_input_layer):\n",
    "        delta = ()"
   ]
  },
  {
   "cell_type": "code",
   "execution_count": 86,
   "id": "16af90cc",
   "metadata": {},
   "outputs": [],
   "source": [
    "# testing the backward pass \n",
    "\n",
    "# preparing the args\n",
    "\n",
    "weights = weight_input_hidden, new_weight_hidden_output\n",
    "image = x_train[random_idx]; input_layer = image.flatten()\n",
    "label = y_train[random_idx]\n",
    "# one hot encoding\n",
    "desired = np.zeros(size_output_layer)\n",
    "desired[int(label)] = 1"
   ]
  },
  {
   "cell_type": "code",
   "execution_count": 87,
   "id": "136f29b4",
   "metadata": {},
   "outputs": [],
   "source": [
    "# skip if you don't want to perform the backward pass\n",
    "_, new_weight_hidden_output = backward_pass(weights, image, label)"
   ]
  },
  {
   "cell_type": "code",
   "execution_count": 88,
   "id": "c0ab06bd",
   "metadata": {},
   "outputs": [
    {
     "data": {
      "text/plain": [
       "1.0"
      ]
     },
     "execution_count": 88,
     "metadata": {},
     "output_type": "execute_result"
    }
   ],
   "source": [
    "_, new_output = forward_pass(input_layer, weight_input_hidden, new_weight_hidden_output)\n",
    "norm_new_output = np.array(tf.nn.softmax(new_output)) # transforming the logits to probs\n",
    "MSE(norm_new_output, desired)"
   ]
  },
  {
   "cell_type": "code",
   "execution_count": 84,
   "id": "17557509",
   "metadata": {},
   "outputs": [
    {
     "data": {
      "text/plain": [
       "29795.922364317616"
      ]
     },
     "execution_count": 84,
     "metadata": {},
     "output_type": "execute_result"
    }
   ],
   "source": [
    "_, old_output = forward_pass(input_layer, weight_input_hidden, weight_hidden_output)\n",
    "norm_old_output = np.array(tf.nn.softmax(old_output))\n",
    "MSE(old_output, desired)"
   ]
  },
  {
   "cell_type": "code",
   "execution_count": 89,
   "id": "cd8066d4",
   "metadata": {},
   "outputs": [
    {
     "data": {
      "text/plain": [
       "array([   74.39696066,  -233.39786026,   -13.67398176,    52.38022133,\n",
       "          76.42062292,    73.89492291, -2329.48474152,  1595.44795131,\n",
       "          50.07764008,    76.12015836])"
      ]
     },
     "execution_count": 89,
     "metadata": {},
     "output_type": "execute_result"
    }
   ],
   "source": [
    "new_output"
   ]
  },
  {
   "cell_type": "code",
   "execution_count": null,
   "id": "db53bade",
   "metadata": {},
   "outputs": [],
   "source": []
  }
 ],
 "metadata": {
  "kernelspec": {
   "display_name": "Python 3 (ipykernel)",
   "language": "python",
   "name": "python3"
  },
  "language_info": {
   "codemirror_mode": {
    "name": "ipython",
    "version": 3
   },
   "file_extension": ".py",
   "mimetype": "text/x-python",
   "name": "python",
   "nbconvert_exporter": "python",
   "pygments_lexer": "ipython3",
   "version": "3.11.3"
  }
 },
 "nbformat": 4,
 "nbformat_minor": 5
}
